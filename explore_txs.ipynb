{
 "cells": [
  {
   "cell_type": "code",
   "execution_count": 178,
   "metadata": {},
   "outputs": [],
   "source": [
    "import pandas as pd"
   ]
  },
  {
   "cell_type": "markdown",
   "metadata": {},
   "source": [
    "<h1>This is a DataFrame that is updated with the infura stream of transactions in gasExpress.py and the results at each block are accessible via a GET request hosted on my server for querying and use as a Gas_price forecast for developers</h1>"
   ]
  },
  {
   "cell_type": "code",
   "execution_count": 179,
   "metadata": {},
   "outputs": [],
   "source": [
    "df = pd.read_csv('alltx.csv')"
   ]
  },
  {
   "cell_type": "markdown",
   "metadata": {},
   "source": [
    "<h1>Saved fields from the transaction</h1>"
   ]
  },
  {
   "cell_type": "code",
   "execution_count": 180,
   "metadata": {},
   "outputs": [
    {
     "data": {
      "text/html": [
       "<div>\n",
       "<style scoped>\n",
       "    .dataframe tbody tr th:only-of-type {\n",
       "        vertical-align: middle;\n",
       "    }\n",
       "\n",
       "    .dataframe tbody tr th {\n",
       "        vertical-align: top;\n",
       "    }\n",
       "\n",
       "    .dataframe thead th {\n",
       "        text-align: right;\n",
       "    }\n",
       "</style>\n",
       "<table border=\"1\" class=\"dataframe\">\n",
       "  <thead>\n",
       "    <tr style=\"text-align: right;\">\n",
       "      <th></th>\n",
       "      <th>block_mined</th>\n",
       "      <th>gas</th>\n",
       "      <th>gas_price</th>\n",
       "      <th>hashpower_accepting</th>\n",
       "      <th>round_gp_10gwei</th>\n",
       "      <th>time_mined</th>\n",
       "    </tr>\n",
       "  </thead>\n",
       "  <tbody>\n",
       "    <tr>\n",
       "      <th>count</th>\n",
       "      <td>2.057000e+03</td>\n",
       "      <td>2.057000e+03</td>\n",
       "      <td>2.057000e+03</td>\n",
       "      <td>2057.000000</td>\n",
       "      <td>2057.000000</td>\n",
       "      <td>2.057000e+03</td>\n",
       "    </tr>\n",
       "    <tr>\n",
       "      <th>mean</th>\n",
       "      <td>8.904441e+06</td>\n",
       "      <td>2.719904e+05</td>\n",
       "      <td>4.366944e+10</td>\n",
       "      <td>86.185707</td>\n",
       "      <td>435.585805</td>\n",
       "      <td>1.573332e+09</td>\n",
       "    </tr>\n",
       "    <tr>\n",
       "      <th>std</th>\n",
       "      <td>9.431148e+00</td>\n",
       "      <td>6.653261e+05</td>\n",
       "      <td>4.449695e+11</td>\n",
       "      <td>12.400127</td>\n",
       "      <td>4449.396470</td>\n",
       "      <td>1.457676e+02</td>\n",
       "    </tr>\n",
       "    <tr>\n",
       "      <th>min</th>\n",
       "      <td>8.904427e+06</td>\n",
       "      <td>2.100000e+04</td>\n",
       "      <td>1.000000e+09</td>\n",
       "      <td>72.000000</td>\n",
       "      <td>10.000000</td>\n",
       "      <td>1.573332e+09</td>\n",
       "    </tr>\n",
       "    <tr>\n",
       "      <th>25%</th>\n",
       "      <td>8.904434e+06</td>\n",
       "      <td>3.716500e+04</td>\n",
       "      <td>1.100000e+09</td>\n",
       "      <td>72.000000</td>\n",
       "      <td>10.000000</td>\n",
       "      <td>1.573332e+09</td>\n",
       "    </tr>\n",
       "    <tr>\n",
       "      <th>50%</th>\n",
       "      <td>8.904441e+06</td>\n",
       "      <td>8.324100e+04</td>\n",
       "      <td>6.000000e+09</td>\n",
       "      <td>84.000000</td>\n",
       "      <td>60.000000</td>\n",
       "      <td>1.573332e+09</td>\n",
       "    </tr>\n",
       "    <tr>\n",
       "      <th>75%</th>\n",
       "      <td>8.904449e+06</td>\n",
       "      <td>2.071280e+05</td>\n",
       "      <td>1.331001e+10</td>\n",
       "      <td>100.000000</td>\n",
       "      <td>130.000000</td>\n",
       "      <td>1.573332e+09</td>\n",
       "    </tr>\n",
       "    <tr>\n",
       "      <th>max</th>\n",
       "      <td>8.904458e+06</td>\n",
       "      <td>5.300000e+06</td>\n",
       "      <td>9.577651e+12</td>\n",
       "      <td>100.000000</td>\n",
       "      <td>95770.000000</td>\n",
       "      <td>1.573333e+09</td>\n",
       "    </tr>\n",
       "  </tbody>\n",
       "</table>\n",
       "</div>"
      ],
      "text/plain": [
       "        block_mined           gas     gas_price  hashpower_accepting  \\\n",
       "count  2.057000e+03  2.057000e+03  2.057000e+03          2057.000000   \n",
       "mean   8.904441e+06  2.719904e+05  4.366944e+10            86.185707   \n",
       "std    9.431148e+00  6.653261e+05  4.449695e+11            12.400127   \n",
       "min    8.904427e+06  2.100000e+04  1.000000e+09            72.000000   \n",
       "25%    8.904434e+06  3.716500e+04  1.100000e+09            72.000000   \n",
       "50%    8.904441e+06  8.324100e+04  6.000000e+09            84.000000   \n",
       "75%    8.904449e+06  2.071280e+05  1.331001e+10           100.000000   \n",
       "max    8.904458e+06  5.300000e+06  9.577651e+12           100.000000   \n",
       "\n",
       "       round_gp_10gwei    time_mined  \n",
       "count      2057.000000  2.057000e+03  \n",
       "mean        435.585805  1.573332e+09  \n",
       "std        4449.396470  1.457676e+02  \n",
       "min          10.000000  1.573332e+09  \n",
       "25%          10.000000  1.573332e+09  \n",
       "50%          60.000000  1.573332e+09  \n",
       "75%         130.000000  1.573332e+09  \n",
       "max       95770.000000  1.573333e+09  "
      ]
     },
     "execution_count": 180,
     "metadata": {},
     "output_type": "execute_result"
    }
   ],
   "source": [
    "df.describe()"
   ]
  },
  {
   "cell_type": "markdown",
   "metadata": {},
   "source": [
    "<h1>Engineered Feature to look at the gas_price spent and the gas_limit (# of units of the gas)</h1>"
   ]
  },
  {
   "cell_type": "code",
   "execution_count": 181,
   "metadata": {},
   "outputs": [],
   "source": [
    "df['tx_cost'] = df.gas * df.round_gp_10gwei"
   ]
  },
  {
   "cell_type": "markdown",
   "metadata": {},
   "source": [
    "<h1>Splitting the removing dependent and independent variables from the df</h1>"
   ]
  },
  {
   "cell_type": "code",
   "execution_count": 182,
   "metadata": {},
   "outputs": [],
   "source": [
    "X = df[['gas','round_gp_10gwei','tx_cost']]\n",
    "y = df['hashpower_accepting']"
   ]
  },
  {
   "cell_type": "code",
   "execution_count": 183,
   "metadata": {},
   "outputs": [
    {
     "name": "stdout",
     "output_type": "stream",
     "text": [
      "         gas  round_gp_10gwei     tx_cost\n",
      "0  1000000.0             90.0  90000000.0\n",
      "1    43816.0             60.0   2628960.0\n",
      "2   122777.0            120.0  14733240.0\n",
      "3   217550.0            100.0  21755000.0\n",
      "4    83241.0             10.0    832410.0\n"
     ]
    }
   ],
   "source": [
    "print(X.head())"
   ]
  },
  {
   "cell_type": "code",
   "execution_count": 184,
   "metadata": {},
   "outputs": [
    {
     "name": "stdout",
     "output_type": "stream",
     "text": [
      "0     90\n",
      "1     84\n",
      "2    100\n",
      "3    100\n",
      "4     72\n",
      "Name: hashpower_accepting, dtype: int64\n"
     ]
    }
   ],
   "source": [
    "print(y.head())"
   ]
  },
  {
   "cell_type": "markdown",
   "metadata": {},
   "source": [
    "<h1>Some Data Exploration to See Obvious Relationships</h1>"
   ]
  },
  {
   "cell_type": "code",
   "execution_count": 185,
   "metadata": {},
   "outputs": [
    {
     "data": {
      "text/plain": [
       "<matplotlib.axes._subplots.AxesSubplot at 0x1a25b7f860>"
      ]
     },
     "execution_count": 185,
     "metadata": {},
     "output_type": "execute_result"
    },
    {
     "data": {
      "image/png": "[encoded data removed]",
      "text/plain": [
       "<Figure size 432x288 with 1 Axes>"
      ]
     },
     "metadata": {
      "needs_background": "light"
     },
     "output_type": "display_data"
    }
   ],
   "source": [
    "df.plot.scatter(x='gas',\n",
    "                y='hashpower_accepting',\n",
    "                c='DarkBlue')"
   ]
  },
  {
   "cell_type": "code",
   "execution_count": 186,
   "metadata": {},
   "outputs": [
    {
     "data": {
      "text/plain": [
       "<matplotlib.axes._subplots.AxesSubplot at 0x1a261ee048>"
      ]
     },
     "execution_count": 186,
     "metadata": {},
     "output_type": "execute_result"
    },
    {
     "data": {
      "image/png": "[encoded data removed]",
      "text/plain": [
       "<Figure size 432x288 with 1 Axes>"
      ]
     },
     "metadata": {
      "needs_background": "light"
     },
     "output_type": "display_data"
    }
   ],
   "source": [
    "df.plot.scatter(x='round_gp_10gwei',\n",
    "                y='hashpower_accepting',\n",
    "                c='DarkBlue',\n",
    "               )"
   ]
  },
  {
   "cell_type": "code",
   "execution_count": 187,
   "metadata": {},
   "outputs": [
    {
     "data": {
      "text/plain": [
       "<matplotlib.axes._subplots.AxesSubplot at 0x1a262badd8>"
      ]
     },
     "execution_count": 187,
     "metadata": {},
     "output_type": "execute_result"
    },
    {
     "data": {
      "image/png": "[encoded data removed]",
      "text/plain": [
       "<Figure size 432x288 with 1 Axes>"
      ]
     },
     "metadata": {
      "needs_background": "light"
     },
     "output_type": "display_data"
    }
   ],
   "source": [
    "df.plot.scatter(x='tx_cost',\n",
    "                y='hashpower_accepting',\n",
    "                c='DarkBlue',\n",
    "               )"
   ]
  },
  {
   "cell_type": "markdown",
   "metadata": {},
   "source": [
    "<h1>Getting ready for some ML exploration</h1>"
   ]
  },
  {
   "cell_type": "code",
   "execution_count": 188,
   "metadata": {},
   "outputs": [],
   "source": [
    "import numpy as np\n",
    "from sklearn.model_selection import train_test_split\n",
    "X_train, X_test, y_train, y_test = train_test_split(X, y, test_size=0.33, random_state=42)"
   ]
  },
  {
   "cell_type": "markdown",
   "metadata": {},
   "source": [
    "<h1>Linear Models</h1>"
   ]
  },
  {
   "cell_type": "markdown",
   "metadata": {},
   "source": [
    "<h3>Ridge</h3>"
   ]
  },
  {
   "cell_type": "code",
   "execution_count": 189,
   "metadata": {},
   "outputs": [
    {
     "data": {
      "text/plain": [
       "Ridge(alpha=0.01, copy_X=True, fit_intercept=True, max_iter=None,\n",
       "      normalize=False, random_state=None, solver='auto', tol=0.001)"
      ]
     },
     "execution_count": 189,
     "metadata": {},
     "output_type": "execute_result"
    }
   ],
   "source": [
    "from sklearn.linear_model import Ridge\n",
    "clf = Ridge(alpha=0.01)\n",
    "clf.fit(X_train, y_train) "
   ]
  },
  {
   "cell_type": "code",
   "execution_count": 190,
   "metadata": {},
   "outputs": [],
   "source": [
    "y_pred = clf.predict(X_test)"
   ]
  },
  {
   "cell_type": "code",
   "execution_count": 191,
   "metadata": {},
   "outputs": [
    {
     "data": {
      "text/plain": [
       "184      2.242677\n",
       "1947    11.177195\n",
       "251    -13.761511\n",
       "1121   -13.692199\n",
       "1487    14.102690\n",
       "Name: hashpower_accepting, dtype: float64"
      ]
     },
     "execution_count": 191,
     "metadata": {},
     "output_type": "execute_result"
    }
   ],
   "source": [
    "residuals = y_pred-y_test\n",
    "residuals.head()"
   ]
  },
  {
   "cell_type": "code",
   "execution_count": 192,
   "metadata": {},
   "outputs": [
    {
     "data": {
      "text/plain": [
       "0.010967483966711544"
      ]
     },
     "execution_count": 192,
     "metadata": {},
     "output_type": "execute_result"
    }
   ],
   "source": [
    "clf.score(X,y)"
   ]
  },
  {
   "cell_type": "markdown",
   "metadata": {},
   "source": [
    "<h3>LinearRegression</h3>"
   ]
  },
  {
   "cell_type": "code",
   "execution_count": 193,
   "metadata": {},
   "outputs": [
    {
     "data": {
      "text/plain": [
       "LinearRegression(copy_X=True, fit_intercept=True, n_jobs=None, normalize=False)"
      ]
     },
     "execution_count": 193,
     "metadata": {},
     "output_type": "execute_result"
    }
   ],
   "source": [
    "from sklearn.linear_model import LinearRegression\n",
    "clf = LinearRegression()\n",
    "clf.fit(X_train, y_train) "
   ]
  },
  {
   "cell_type": "code",
   "execution_count": 194,
   "metadata": {},
   "outputs": [],
   "source": [
    "y_pred = clf.predict(X_test)"
   ]
  },
  {
   "cell_type": "code",
   "execution_count": 195,
   "metadata": {},
   "outputs": [
    {
     "data": {
      "text/plain": [
       "184      2.242677\n",
       "1947    11.177195\n",
       "251    -13.761511\n",
       "1121   -13.692199\n",
       "1487    14.102690\n",
       "Name: hashpower_accepting, dtype: float64"
      ]
     },
     "execution_count": 195,
     "metadata": {},
     "output_type": "execute_result"
    }
   ],
   "source": [
    "residuals = y_pred-y_test\n",
    "residuals.head()"
   ]
  },
  {
   "cell_type": "code",
   "execution_count": 196,
   "metadata": {},
   "outputs": [
    {
     "data": {
      "text/plain": [
       "0.010967483966675906"
      ]
     },
     "execution_count": 196,
     "metadata": {},
     "output_type": "execute_result"
    }
   ],
   "source": [
    "clf.score(X,y)"
   ]
  },
  {
   "cell_type": "markdown",
   "metadata": {},
   "source": [
    "<h3>Logistic Regression</h3>"
   ]
  },
  {
   "cell_type": "code",
   "execution_count": 197,
   "metadata": {},
   "outputs": [
    {
     "name": "stderr",
     "output_type": "stream",
     "text": [
      "/Users/steven/anaconda3/lib/python3.7/site-packages/sklearn/linear_model/logistic.py:947: ConvergenceWarning: lbfgs failed to converge. Increase the number of iterations.\n",
      "  \"of iterations.\", ConvergenceWarning)\n"
     ]
    },
    {
     "data": {
      "text/plain": [
       "LogisticRegression(C=1.0, class_weight=None, dual=False, fit_intercept=True,\n",
       "                   intercept_scaling=1, l1_ratio=None, max_iter=100,\n",
       "                   multi_class='multinomial', n_jobs=None, penalty='l2',\n",
       "                   random_state=0, solver='lbfgs', tol=0.0001, verbose=0,\n",
       "                   warm_start=False)"
      ]
     },
     "execution_count": 197,
     "metadata": {},
     "output_type": "execute_result"
    }
   ],
   "source": [
    "from sklearn.linear_model import LogisticRegression\n",
    "clf = LogisticRegression(random_state=0, solver='lbfgs',\n",
    "                        multi_class='multinomial')\n",
    "clf.fit(X_train, y_train) "
   ]
  },
  {
   "cell_type": "code",
   "execution_count": 198,
   "metadata": {},
   "outputs": [],
   "source": [
    "y_pred = clf.predict(X_test)"
   ]
  },
  {
   "cell_type": "code",
   "execution_count": 199,
   "metadata": {},
   "outputs": [
    {
     "data": {
      "text/plain": [
       "184     0\n",
       "1947    0\n",
       "251     0\n",
       "1121    0\n",
       "1487    0\n",
       "Name: hashpower_accepting, dtype: int64"
      ]
     },
     "execution_count": 199,
     "metadata": {},
     "output_type": "execute_result"
    }
   ],
   "source": [
    "residuals = y_pred-y_test\n",
    "residuals.head()"
   ]
  },
  {
   "cell_type": "code",
   "execution_count": 200,
   "metadata": {},
   "outputs": [
    {
     "data": {
      "text/plain": [
       "0.9718035974720467"
      ]
     },
     "execution_count": 200,
     "metadata": {},
     "output_type": "execute_result"
    }
   ],
   "source": [
    "clf.score(X,y)"
   ]
  },
  {
   "cell_type": "markdown",
   "metadata": {},
   "source": [
    "Some observations from streaming data.  These different linear models perform better and worse depending on the network congestion.  These numbers are under low network congestion, and perform worse when there is more network congested which is why I investigated more models."
   ]
  },
  {
   "cell_type": "code",
   "execution_count": 201,
   "metadata": {},
   "outputs": [],
   "source": [
    "from sklearn import base\n",
    "class ColumnSelectTransformer(base.BaseEstimator, base.TransformerMixin):\n",
    "    \n",
    "    def __init__(self, col_names):\n",
    "        self.col_names = col_names  # We will need these in transform()\n",
    "    \n",
    "    def fit(self, X, y=None):\n",
    "        # This transformer doesn't need to learn anything about the data,\n",
    "        # so it can just return self without any further processing\n",
    "        return self\n",
    "    \n",
    "    def transform(self, X):\n",
    "        result=[]\n",
    "        # Return an array with the same number of rows as X and one\n",
    "        # column for each in self.col_names\n",
    "        for row in X:\n",
    "            row_res = []\n",
    "            for col in self.col_names:\n",
    "                row_res.append(row[col])\n",
    "            result.append(row_res)\n",
    "        return result\n",
    "                "
   ]
  },
  {
   "cell_type": "code",
   "execution_count": 202,
   "metadata": {},
   "outputs": [],
   "source": [
    "from sklearn.pipeline import Pipeline\n",
    "\n",
    "linear_pipe = Pipeline([\n",
    "        ('lin', LinearRegression()),\n",
    "   ])"
   ]
  },
  {
   "cell_type": "code",
   "execution_count": 203,
   "metadata": {},
   "outputs": [
    {
     "data": {
      "text/plain": [
       "array([ 86.24267736,  86.17719532,  86.23848869,  86.30780116,\n",
       "        86.10268975,  86.23811944,  86.28146181,  86.33823751,\n",
       "        86.00566541,  86.27431192,  86.26726772,  86.29354378,\n",
       "        86.29680299,  86.27844131,  86.27895472,  86.26425911,\n",
       "        86.27887001,  86.27323519,  86.29354378,  86.24630696,\n",
       "        86.31450099,  86.20146642,  86.31763846,  86.29699678,\n",
       "        86.23848869,  86.29680299,  86.24802373,  86.35876822,\n",
       "        86.26726772,  85.38484055,  86.3660356 ,  86.27143997,\n",
       "        86.3660356 ,  86.10268975,  86.27143997,  86.29104604,\n",
       "        86.26425911,  86.29354378,  86.1825889 ,  86.27323519,\n",
       "        86.27924375,  86.33183765,  86.1463712 ,  86.26455539,\n",
       "        86.38234906,  85.38484055,  85.38484055,  86.29099134,\n",
       "        86.28430166,  86.30561743,  86.25742006,  86.21040266,\n",
       "        86.28620662,  86.13859405,  86.24790452,  86.27143997,\n",
       "        86.19709814,  86.39624052,  86.26483415,  86.42644544,\n",
       "        86.35999679,  86.27143997,  86.19184866,  86.20146642,\n",
       "        86.2380157 ,  86.26425911,  86.30562575,  86.17719532,\n",
       "        86.23937115,  86.33564053,  86.29940133,  86.21601987,\n",
       "        86.31450099,  86.27924375,  86.24600828,  86.2585152 ,\n",
       "        86.27143997,  86.24630696,  86.23848869,  86.42644544,\n",
       "        86.27921339,  86.28146181,  86.26521897,  86.32031754,\n",
       "        86.23068464,  86.27844131,  86.29354378,  86.17719532,\n",
       "        86.28594569,  86.26425911,  86.29354378,  86.26726772,\n",
       "        86.24971787,  86.33564053,  86.26068628,  85.78562478,\n",
       "        86.26605433,  86.32572832,  86.27796757,  86.27921339,\n",
       "        86.27547185,  86.27557256,  86.32841506,  86.16552228,\n",
       "        86.36407825,  86.26726772, 109.94420088,  86.27323519,\n",
       "        86.34060224,  86.27143997,  86.4483626 ,  86.29354378,\n",
       "        86.25988348,  86.29336146,  86.27323519,  86.26726772,\n",
       "        86.33290924,  86.30255976,  86.27259072,  86.26833389,\n",
       "        86.54176244,  86.27323519,  86.27844131,  86.26777127,\n",
       "        86.27323519,  86.27844131,  86.28643342,  86.35797754,\n",
       "        86.42644544,  86.30592767,  86.28629287,  86.23848869,\n",
       "        86.25988348,  86.27323519,  86.31166673,  86.24600828,\n",
       "        86.28753411,  86.29484304,  86.28800604,  86.27143997,\n",
       "        86.29099134,  86.26425911,  86.27816431,  86.2959166 ,\n",
       "        86.30562575,  86.29336146,  86.26425911,  86.30780116,\n",
       "        86.27143997,  86.33564053,  86.38838883,  86.31166673,\n",
       "        86.285872  ,  86.27259072,  86.35697412,  86.12243712,\n",
       "        86.36000932,  86.24971787,  86.17886645,  86.28146181,\n",
       "        86.27604135,  86.13859405,  86.30264244,  86.26162379,\n",
       "        86.27259072,  86.26425911,  86.24922738,  86.29336146,\n",
       "        86.27259072,  86.19754829,  86.26425911,  86.34060224,\n",
       "        86.35876822,  86.27143997,  86.33344931,  86.23848869,\n",
       "        86.27844131,  86.30562575,  86.27556107,  86.26425911,\n",
       "        86.31719885,  86.29354378,  86.31595717,  86.3660356 ,\n",
       "        86.29354378,  86.27323519,  86.33183765,  86.29354378,\n",
       "        86.28771036,  86.27323519,  86.33183765,  86.34060224,\n",
       "        86.3002737 ,  86.31166673,  86.01421626,  86.27844131,\n",
       "        86.27882772,  86.3017949 ,  86.34060224,  86.4483626 ,\n",
       "        86.30689714,  86.2804538 ,  86.3208093 ,  86.31450099,\n",
       "        86.27943945,  86.18798248,  86.2723453 ,  86.28620662,\n",
       "        85.47797921,  86.27323519,  86.3660356 ,  86.29104604,\n",
       "        86.26726772,  86.27844131,  86.30562575,  86.28181838,\n",
       "        86.29354378,  86.19607284,  86.26584018,  86.28354479,\n",
       "        86.21722448,  86.27566735,  86.25528304,  86.26874715,\n",
       "        86.29336146,  86.30562575,  86.26521897,  86.29656024,\n",
       "        86.01421626,  86.27294796,  86.29104604,  86.27323519,\n",
       "        86.29354378,  86.27143997,  86.24346479,  86.38780658,\n",
       "        86.26425911,  86.21601987,  86.26726772,  86.27323519,\n",
       "        86.29354378,  86.26090905,  85.87134421,  86.29354378,\n",
       "        86.29354378,  86.26726772,  86.34007072,  86.27323519,\n",
       "        86.34060224,  86.13859405,  86.26090905,  86.27844131,\n",
       "        86.01421626,  86.18798248,  86.24600828,  86.29104604,\n",
       "        86.25909053,  86.24475172,  86.31166673,  86.31450099,\n",
       "        86.19756741,  86.33126722,  86.27921339,  86.27565065,\n",
       "        85.38484055,  86.26972842,  86.29336146,  86.35891261,\n",
       "        86.26726772,  86.30562575,  86.21990294,  86.31166673,\n",
       "        86.27323519,  86.32573631,  86.26748699,  86.29354378,\n",
       "        86.29603246,  86.24742657,  86.4445684 ,  86.27143997,\n",
       "        86.29940133,  86.30562575,  86.29151362,  86.36041916,\n",
       "        86.10268975,  86.29399065,  86.01849168,  86.26067281,\n",
       "        86.35840194,  86.27844131,  86.27323519,  86.26635142,\n",
       "        86.31450099,  86.27323519,  86.25506822,  86.32978969,\n",
       "        86.22707626,  86.13859405,  85.38484055,  86.32271074,\n",
       "        86.42690214,  86.28552165,  86.33583067,  86.30562575,\n",
       "        86.30192456,  86.31450099,  86.00780312,  86.27323519,\n",
       "        86.29336146,  86.30562575,  86.24267736,  86.33383865,\n",
       "        86.27323519,  86.30562575,  86.26425911,  86.29940133,\n",
       "        86.34060224,  86.29354378,  86.22226675,  86.31166673,\n",
       "        86.29354378,  86.29599236,  86.00566541,  86.27323519,\n",
       "        86.29580149,  86.25123258,  86.31719885,  86.31166673,\n",
       "        86.15018306,  86.31794933,  86.27323519,  86.29680299,\n",
       "        86.23848869,  86.27248317,  86.27924375,  86.27895472,\n",
       "        86.34060224,  86.33183765,  86.25699992,  86.27921339,\n",
       "        86.26726772,  86.26605433,  86.34060224,  86.41415879,\n",
       "        86.32121235,  86.27259072,  86.26833389,  86.27323519,\n",
       "        86.27772323,  86.27895472,  86.26425911,  86.24690279,\n",
       "        86.27895472,  86.30592767,  86.29940133,  86.25254874,\n",
       "        86.31450099,  86.27323519,  86.2683233 ,  86.24742657,\n",
       "        85.5278861 ,  86.26090905,  86.10268975,  86.27844131,\n",
       "        86.26903625,  86.3660356 ,  86.29336146,  86.33046023,\n",
       "        86.27844131,  86.29354378,  86.24475172,  86.26425911,\n",
       "        86.30562575,  86.13859405,  86.26993846,  86.26726772,\n",
       "        86.38234906,  86.30562575,  86.29354378,  86.26425911,\n",
       "        86.27323519,  86.26726772,  86.28146181,  86.27844131,\n",
       "        86.19754829,  86.26726772,  86.27895472,  86.30562575,\n",
       "        86.23848869,  86.13859405,  86.30562575,  86.11258238,\n",
       "        86.21601987,  86.27259072,  86.27557256,  86.27557256,\n",
       "        86.24600828,  86.29354378,  86.42946594,  86.17719532,\n",
       "        86.29680299,  86.27173745,  86.26707653,  86.2939774 ,\n",
       "        86.26162379,  86.26455539,  86.26726772,  86.26748699,\n",
       "        86.28825659,  86.24600828,  86.20146642,  86.31450099,\n",
       "        86.23935683,  86.26066868,  86.27844131,  86.27224387,\n",
       "        86.27028134,  86.28753411,  86.31450099,  86.28634973,\n",
       "        86.00566541,  86.24742657,  86.26726772,  86.24475172,\n",
       "        86.24475172,  86.25921402,  86.29580743,  86.35948514,\n",
       "        86.27259072,  86.27714765,  86.22399298,  86.23848869,\n",
       "        86.23848869,  86.27323519,  86.31450099,  85.90521609,\n",
       "        86.30562575,  86.26090905,  86.32121235,  86.27844131,\n",
       "        86.27566735,  86.30562575,  86.27844131,  86.3660356 ,\n",
       "        88.9170903 ,  86.38939545,  86.27921339,  86.27844131,\n",
       "        86.27844131,  86.29940133,  86.26726772,  86.27844131,\n",
       "        86.23848869,  86.27248317,  86.2741328 ,  86.27323519,\n",
       "        86.24022335,  86.24600828,  86.29354378,  86.28146181,\n",
       "        86.02490482,  86.26605433,  86.27583591,  86.27323519,\n",
       "        86.31450099,  86.24475172,  86.24738179,  86.23848869,\n",
       "        86.24267736,  86.28594569,  85.83340748,  86.27143997,\n",
       "        86.29336146,  86.26821702,  86.3660356 ,  86.31719885,\n",
       "        86.27259072,  86.3660356 ,  86.27143997,  86.23848869,\n",
       "        86.32978969,  86.27921339,  86.29151362,  86.33491378,\n",
       "        86.25675099,  86.29680299,  86.26090905,  86.27817136,\n",
       "        86.29354378,  86.19709814,  86.27281457,  86.30562575,\n",
       "        86.20146642,  86.21722477,  86.39303247,  86.27844131,\n",
       "        86.33183765,  86.35948514,  86.29276966,  86.28146181,\n",
       "        86.33564053,  86.31468722,  86.33183765,  86.208806  ,\n",
       "        86.30562575,  86.27844131,  86.27323519,  86.36293281,\n",
       "        86.27021177,  86.33344931,  86.26425911,  86.26726772,\n",
       "        86.20605968,  86.27143997,  86.3660356 ,  86.26830607,\n",
       "        86.27323519,  85.47797921,  86.26885866,  86.29354378,\n",
       "        86.26726772,  86.20146642,  86.23848869,  86.21601987,\n",
       "        86.24742657,  86.25452796,  86.32518204,  86.18798248,\n",
       "        86.26605433,  86.29104604,  86.00566541,  86.27557256,\n",
       "        86.27259072,  86.27250041,  86.36407825,  86.32271074,\n",
       "        86.38234906,  86.30562575,  86.26373114,  86.33183765,\n",
       "        86.30562575,  86.29354378,  86.27250041,  86.27443866,\n",
       "        86.34060224,  86.26369473,  86.27323519,  86.3660356 ,\n",
       "        86.21997746,  86.20146642,  86.29336146,  86.33183765,\n",
       "        86.26726772,  86.3660356 ,  86.35891261,  86.24742657,\n",
       "        86.28438984,  86.41415879,  86.23098824,  86.18798248,\n",
       "        86.13859405,  86.34060224,  86.27844131,  86.30562575,\n",
       "        86.27844131,  86.26926525,  86.10268975,  86.27323519,\n",
       "        86.54287334,  86.30562575,  86.35876822,  86.26726772,\n",
       "        86.12494817,  86.29070565,  86.27844131,  86.33183765,\n",
       "        86.30592767,  86.27323519,  86.33564053,  86.17719532,\n",
       "        86.28628124,  86.31997156,  86.27844131,  86.31450099,\n",
       "        86.27072189,  86.27323519,  86.35870239,  86.34060224,\n",
       "        86.27844131,  86.27143997,  86.27323519,  86.28643342,\n",
       "        86.31719885,  86.30562575,  86.28628124,  86.29680299,\n",
       "        86.33324881,  86.21973072,  86.27714765,  86.13324395,\n",
       "        86.28430166,  86.26090905,  86.30562575,  86.35891261,\n",
       "        86.28825659,  86.29052328,  86.28430166,  86.29354378,\n",
       "        86.31450099,  86.10268975,  86.27844131,  86.3660356 ,\n",
       "        86.27710926,  86.27551114,  86.1879823 ,  86.29680299,\n",
       "        86.27323519,  86.18798248,  86.27323519,  86.33183765,\n",
       "        86.2420492 ,  86.3017949 ,  86.30008915,  86.27557256,\n",
       "        86.27323519,  86.26313737,  86.27798199,  86.27143997,\n",
       "        86.18798248,  86.26186125,  86.29354378,  86.31435836,\n",
       "        86.23848869,  86.29062361,  86.24742657,  86.20604244,\n",
       "        86.26425911,  86.12989449,  86.26605433,  86.26726772,\n",
       "        86.00681575,  86.39725865,  86.27323519,  86.27143997,\n",
       "        86.16552228,  86.26726772,  86.29354378,  86.27748107,\n",
       "        86.29958476,  86.31166673,  86.26425911,  86.25909053,\n",
       "        86.29335864,  86.12317097,  86.23981285,  86.27323519,\n",
       "        86.26425911,  86.21601987,  86.29354378,  86.35250338,\n",
       "        86.28771513,  86.25634365,  86.27323519,  86.26425911,\n",
       "        86.32271074,  86.29940133,  86.26090905,  85.96845308,\n",
       "        86.24267736,  86.26726772,  86.10516291,  86.39630479,\n",
       "        86.29336146,  86.31491216,  86.30562575,  94.57789334,\n",
       "        86.27323519,  86.27143997,  86.28128173])"
      ]
     },
     "execution_count": 203,
     "metadata": {},
     "output_type": "execute_result"
    }
   ],
   "source": [
    "linear_pipe.fit(X_train, y_train)\n",
    "linear_pipe.predict(X_test)"
   ]
  },
  {
   "cell_type": "code",
   "execution_count": 204,
   "metadata": {},
   "outputs": [
    {
     "data": {
      "text/plain": [
       "0.007158063818826555"
      ]
     },
     "execution_count": 204,
     "metadata": {},
     "output_type": "execute_result"
    }
   ],
   "source": [
    "linear_pipe.score(X_test,y_test)"
   ]
  },
  {
   "cell_type": "code",
   "execution_count": 205,
   "metadata": {},
   "outputs": [],
   "source": [
    "log_pipe = Pipeline([\n",
    "       ('log', LogisticRegression()),\n",
    "        ])"
   ]
  },
  {
   "cell_type": "code",
   "execution_count": 206,
   "metadata": {},
   "outputs": [
    {
     "name": "stderr",
     "output_type": "stream",
     "text": [
      "/Users/steven/anaconda3/lib/python3.7/site-packages/sklearn/linear_model/logistic.py:432: FutureWarning: Default solver will be changed to 'lbfgs' in 0.22. Specify a solver to silence this warning.\n",
      "  FutureWarning)\n",
      "/Users/steven/anaconda3/lib/python3.7/site-packages/sklearn/linear_model/logistic.py:469: FutureWarning: Default multi_class will be changed to 'auto' in 0.22. Specify the multi_class option to silence this warning.\n",
      "  \"this warning.\", FutureWarning)\n"
     ]
    },
    {
     "data": {
      "text/plain": [
       "array([ 84,  75, 100, 100,  72,  84,  75, 100,  84,  75,  72,  84, 100,\n",
       "        72,  75,  72, 100,  72,  84,  72, 100, 100, 100, 100, 100, 100,\n",
       "        72, 100,  72,  75, 100,  72, 100,  72,  72, 100,  72,  84,  75,\n",
       "        72,  75, 100,  84,  84, 100,  75,  75,  84,  75, 100,  72,  72,\n",
       "        84,  72,  72,  72,  84, 100,  84, 100, 100,  72,  75, 100,  84,\n",
       "        72, 100,  75, 100, 100,  84,  75, 100,  75,  75, 100,  72,  72,\n",
       "       100, 100, 100,  75,  75, 100,  72,  72,  84,  75, 100,  72,  84,\n",
       "        72,  72, 100,  72,  72,  72, 100, 100, 100,  72,  72, 100,  72,\n",
       "       100,  72, 100,  72, 100,  72, 100,  84, 100,  84,  72,  72, 100,\n",
       "       100, 100,  72, 100,  72,  72,  72,  72,  72,  84, 100, 100, 100,\n",
       "        84, 100, 100,  72, 100,  75, 100, 100,  84,  72,  84,  72,  72,\n",
       "       100, 100,  84,  72, 100,  72, 100, 100, 100,  75, 100, 100,  72,\n",
       "       100,  72,  84,  75,  84,  72, 100,  84, 100,  72,  75,  84, 100,\n",
       "       100,  72, 100, 100,  72, 100, 100,  72, 100,  72,  72, 100,  84,\n",
       "       100, 100,  84,  72, 100,  84,  84,  72, 100, 100, 100, 100, 100,\n",
       "        72,  75, 100, 100, 100, 100, 100, 100, 100,  75,  84,  72,  84,\n",
       "        84,  72, 100, 100,  72,  72, 100, 100,  84, 100,  84,  84,  72,\n",
       "        72,  72,  72,  84, 100,  75, 100, 100,  72, 100,  72,  84,  72,\n",
       "        84, 100,  72,  75,  72,  72,  84,  84,  75,  84,  84,  72, 100,\n",
       "        72, 100,  72,  84,  72, 100,  84,  75, 100, 100, 100, 100, 100,\n",
       "        72, 100, 100,  72,  75, 100,  84, 100,  72, 100,  72, 100,  72,\n",
       "       100,  84,  84, 100,  75, 100,  72,  84, 100,  84, 100,  72, 100,\n",
       "       100,  72, 100,  72,  72, 100, 100,  72,  75, 100,  72,  72,  75,\n",
       "       100, 100,  84, 100, 100, 100, 100,  84,  72,  84, 100,  84, 100,\n",
       "        72, 100,  72,  84, 100,  84,  75, 100,  84, 100,  84,  72, 100,\n",
       "        75, 100, 100,  75, 100,  72, 100, 100,  72,  75,  75, 100, 100,\n",
       "       100, 100,  72,  72, 100, 100, 100, 100,  72,  72,  72,  75,  72,\n",
       "        72,  75, 100,  84, 100, 100,  72,  72,  75,  72,  84,  72,  72,\n",
       "        75, 100,  84, 100,  72,  84, 100,  72, 100,  72,  72,  72, 100,\n",
       "       100,  84,  72,  72,  72,  75,  72, 100,  72,  75, 100, 100,  72,\n",
       "       100,  84,  75, 100,  72,  72,  75,  84, 100,  75, 100,  75,  84,\n",
       "       100,  84,  84,  72,  84,  84,  75, 100, 100,  84,  72,  72,  72,\n",
       "        72, 100, 100,  84,  84,  75,  72, 100, 100,  72, 100, 100, 100,\n",
       "        84,  72, 100, 100,  72, 100,  72, 100,  84, 100,  72,  72, 100,\n",
       "        72, 100, 100, 100, 100,  72,  72,  84,  72,  72, 100,  72,  72,\n",
       "        72,  75,  75,  84,  75, 100,  72,  75,  72, 100, 100, 100, 100,\n",
       "        84, 100,  72,  72,  84,  72, 100, 100, 100, 100,  72, 100, 100,\n",
       "       100,  84, 100,  72, 100,  84,  84,  84,  84,  72, 100, 100, 100,\n",
       "       100,  72, 100, 100, 100,  75, 100, 100, 100,  72, 100,  72,  72,\n",
       "       100,  75, 100,  72,  72,  72,  72, 100,  72,  72,  84,  84,  84,\n",
       "        72, 100, 100,  75,  75,  84, 100,  84,  72, 100,  84,  72, 100,\n",
       "        72, 100, 100, 100, 100,  72, 100, 100,  84,  72,  75, 100,  75,\n",
       "        72, 100, 100, 100,  84, 100,  72, 100, 100,  75, 100, 100, 100,\n",
       "        84,  72, 100,  72, 100,  72,  72,  72,  72, 100, 100, 100,  72,\n",
       "       100,  84,  72, 100, 100,  72, 100,  75,  84, 100,  72, 100,  72,\n",
       "        72, 100, 100,  72,  72,  72,  84, 100, 100,  84, 100, 100,  84,\n",
       "        84,  72,  75,  84, 100, 100,  84,  84,  75,  84, 100,  72,  72,\n",
       "       100,  72, 100,  84, 100,  72,  84,  72, 100, 100, 100, 100,  72,\n",
       "        72,  75,  84,  72,  84,  72,  84, 100, 100,  84,  75,  72,  72,\n",
       "       100,  72,  72,  72, 100,  72,  72,  72,  72,  84,  75,  84, 100,\n",
       "        72, 100,  84,  75,  84,  72,  72,  75,  84, 100, 100,  72,  72,\n",
       "        72, 100,  84,  84,  72,  84,  72,  75, 100,  84, 100, 100, 100,\n",
       "        72,  72,  75])"
      ]
     },
     "execution_count": 206,
     "metadata": {},
     "output_type": "execute_result"
    }
   ],
   "source": [
    "log_pipe.fit(X_train, y_train)\n",
    "log_pipe.predict(X_test)"
   ]
  },
  {
   "cell_type": "code",
   "execution_count": 207,
   "metadata": {},
   "outputs": [
    {
     "data": {
      "text/plain": [
       "0.9381443298969072"
      ]
     },
     "execution_count": 207,
     "metadata": {},
     "output_type": "execute_result"
    }
   ],
   "source": [
    "log_pipe.score(X_test,y_test)"
   ]
  },
  {
   "cell_type": "code",
   "execution_count": 208,
   "metadata": {},
   "outputs": [],
   "source": [
    "from sklearn.ensemble import GradientBoostingRegressor"
   ]
  },
  {
   "cell_type": "code",
   "execution_count": 209,
   "metadata": {},
   "outputs": [],
   "source": [
    "grad_pipe = Pipeline([\n",
    "       ('log', LogisticRegression()),\n",
    "        ])"
   ]
  },
  {
   "cell_type": "code",
   "execution_count": 210,
   "metadata": {},
   "outputs": [
    {
     "name": "stderr",
     "output_type": "stream",
     "text": [
      "/Users/steven/anaconda3/lib/python3.7/site-packages/sklearn/linear_model/logistic.py:432: FutureWarning: Default solver will be changed to 'lbfgs' in 0.22. Specify a solver to silence this warning.\n",
      "  FutureWarning)\n",
      "/Users/steven/anaconda3/lib/python3.7/site-packages/sklearn/linear_model/logistic.py:469: FutureWarning: Default multi_class will be changed to 'auto' in 0.22. Specify the multi_class option to silence this warning.\n",
      "  \"this warning.\", FutureWarning)\n"
     ]
    },
    {
     "data": {
      "text/plain": [
       "array([ 84,  75, 100, 100,  72,  84,  75, 100,  84,  75,  72,  84, 100,\n",
       "        72,  75,  72, 100,  72,  84,  72, 100, 100, 100, 100, 100, 100,\n",
       "        72, 100,  72,  75, 100,  72, 100,  72,  72, 100,  72,  84,  75,\n",
       "        72,  75, 100,  84,  84, 100,  75,  75,  84,  75, 100,  72,  72,\n",
       "        84,  72,  72,  72,  84, 100,  84, 100, 100,  72,  75, 100,  84,\n",
       "        72, 100,  75, 100, 100,  84,  75, 100,  75,  75, 100,  72,  72,\n",
       "       100, 100, 100,  75,  75, 100,  72,  72,  84,  75, 100,  72,  84,\n",
       "        72,  72, 100,  72,  72,  72, 100, 100, 100,  72,  72, 100,  72,\n",
       "       100,  72, 100,  72, 100,  72, 100,  84, 100,  84,  72,  72, 100,\n",
       "       100, 100,  72, 100,  72,  72,  72,  72,  72,  84, 100, 100, 100,\n",
       "        84, 100, 100,  72, 100,  75, 100, 100,  84,  72,  84,  72,  72,\n",
       "       100, 100,  84,  72, 100,  72, 100, 100, 100,  75, 100, 100,  72,\n",
       "       100,  72,  84,  75,  84,  72, 100,  84, 100,  72,  75,  84, 100,\n",
       "       100,  72, 100, 100,  72, 100, 100,  72, 100,  72,  72, 100,  84,\n",
       "       100, 100,  84,  72, 100,  84,  84,  72, 100, 100, 100, 100, 100,\n",
       "        72,  75, 100, 100, 100, 100, 100, 100, 100,  75,  84,  72,  84,\n",
       "        84,  72, 100, 100,  72,  72, 100, 100,  84, 100,  84,  84,  72,\n",
       "        72,  72,  72,  84, 100,  75, 100, 100,  72, 100,  72,  84,  72,\n",
       "        84, 100,  72,  75,  72,  72,  84,  84,  75,  84,  84,  72, 100,\n",
       "        72, 100,  72,  84,  72, 100,  84,  75, 100, 100, 100, 100, 100,\n",
       "        72, 100, 100,  72,  75, 100,  84, 100,  72, 100,  72, 100,  72,\n",
       "       100,  84,  84, 100,  75, 100,  72,  84, 100,  84, 100,  72, 100,\n",
       "       100,  72, 100,  72,  72, 100, 100,  72,  75, 100,  72,  72,  75,\n",
       "       100, 100,  84, 100, 100, 100, 100,  84,  72,  84, 100,  84, 100,\n",
       "        72, 100,  72,  84, 100,  84,  75, 100,  84, 100,  84,  72, 100,\n",
       "        75, 100, 100,  75, 100,  72, 100, 100,  72,  75,  75, 100, 100,\n",
       "       100, 100,  72,  72, 100, 100, 100, 100,  72,  72,  72,  75,  72,\n",
       "        72,  75, 100,  84, 100, 100,  72,  72,  75,  72,  84,  72,  72,\n",
       "        75, 100,  84, 100,  72,  84, 100,  72, 100,  72,  72,  72, 100,\n",
       "       100,  84,  72,  72,  72,  75,  72, 100,  72,  75, 100, 100,  72,\n",
       "       100,  84,  75, 100,  72,  72,  75,  84, 100,  75, 100,  75,  84,\n",
       "       100,  84,  84,  72,  84,  84,  75, 100, 100,  84,  72,  72,  72,\n",
       "        72, 100, 100,  84,  84,  75,  72, 100, 100,  72, 100, 100, 100,\n",
       "        84,  72, 100, 100,  72, 100,  72, 100,  84, 100,  72,  72, 100,\n",
       "        72, 100, 100, 100, 100,  72,  72,  84,  72,  72, 100,  72,  72,\n",
       "        72,  75,  75,  84,  75, 100,  72,  75,  72, 100, 100, 100, 100,\n",
       "        84, 100,  72,  72,  84,  72, 100, 100, 100, 100,  72, 100, 100,\n",
       "       100,  84, 100,  72, 100,  84,  84,  84,  84,  72, 100, 100, 100,\n",
       "       100,  72, 100, 100, 100,  75, 100, 100, 100,  72, 100,  72,  72,\n",
       "       100,  75, 100,  72,  72,  72,  72, 100,  72,  72,  84,  84,  84,\n",
       "        72, 100, 100,  75,  75,  84, 100,  84,  72, 100,  84,  72, 100,\n",
       "        72, 100, 100, 100, 100,  72, 100, 100,  84,  72,  75, 100,  75,\n",
       "        72, 100, 100, 100,  84, 100,  72, 100, 100,  75, 100, 100, 100,\n",
       "        84,  72, 100,  72, 100,  72,  72,  72,  72, 100, 100, 100,  72,\n",
       "       100,  84,  72, 100, 100,  72, 100,  75,  84, 100,  72, 100,  72,\n",
       "        72, 100, 100,  72,  72,  72,  84, 100, 100,  84, 100, 100,  84,\n",
       "        84,  72,  75,  84, 100, 100,  84,  84,  75,  84, 100,  72,  72,\n",
       "       100,  72, 100,  84, 100,  72,  84,  72, 100, 100, 100, 100,  72,\n",
       "        72,  75,  84,  72,  84,  72,  84, 100, 100,  84,  75,  72,  72,\n",
       "       100,  72,  72,  72, 100,  72,  72,  72,  72,  84,  75,  84, 100,\n",
       "        72, 100,  84,  75,  84,  72,  72,  75,  84, 100, 100,  72,  72,\n",
       "        72, 100,  84,  84,  72,  84,  72,  75, 100,  84, 100, 100, 100,\n",
       "        72,  72,  75])"
      ]
     },
     "execution_count": 210,
     "metadata": {},
     "output_type": "execute_result"
    }
   ],
   "source": [
    "grad_pipe.fit(X_train, y_train)\n",
    "grad_pipe.predict(X_test)"
   ]
  },
  {
   "cell_type": "code",
   "execution_count": 211,
   "metadata": {},
   "outputs": [
    {
     "data": {
      "text/plain": [
       "0.9381443298969072"
      ]
     },
     "execution_count": 211,
     "metadata": {},
     "output_type": "execute_result"
    }
   ],
   "source": [
    "grad_pipe.score(X_test,y_test)"
   ]
  },
  {
   "cell_type": "markdown",
   "metadata": {},
   "source": [
    "<h1>Complex Model</h1>"
   ]
  },
  {
   "cell_type": "code",
   "execution_count": 221,
   "metadata": {},
   "outputs": [],
   "source": [
    "from sklearn.pipeline import FeatureUnion\n",
    "from sklearn.decomposition import PCA, TruncatedSVD\n",
    "union = FeatureUnion([(\"pca\", PCA(n_components=1)),\n",
    "                      (\"svd\", TruncatedSVD(n_components=2))])\n",
    "\n",
    "pipe_all = Pipeline([('union', union), ('grad',GradientBoostingRegressor(n_estimators=300, learning_rate=1.0,max_depth=1, random_state=0))])"
   ]
  },
  {
   "cell_type": "code",
   "execution_count": 222,
   "metadata": {},
   "outputs": [
    {
     "name": "stdout",
     "output_type": "stream",
     "text": [
      "CPU times: user 3 µs, sys: 1e+03 ns, total: 4 µs\n",
      "Wall time: 7.87 µs\n",
      "\n"
     ]
    }
   ],
   "source": [
    "%time\n",
    "pipe_all.fit(X_train,y_train)\n",
    "print()"
   ]
  },
  {
   "cell_type": "code",
   "execution_count": 223,
   "metadata": {},
   "outputs": [
    {
     "data": {
      "text/plain": [
       "0.9518050094629344"
      ]
     },
     "execution_count": 223,
     "metadata": {},
     "output_type": "execute_result"
    }
   ],
   "source": [
    "y_pred = pipe_all.predict(X_test)\n",
    "pipe_all.score(X_test,y_test)\n",
    "#0.67 with just gas and price\n",
    "#0.81 with 1 component + total_cost\n",
    "#0.93 with 2 component SGD\n",
    "\n",
    "##can get up to 0.98 if doing 3 components of PCA, computation takes a long time which isn't ideal"
   ]
  },
  {
   "cell_type": "code",
   "execution_count": 224,
   "metadata": {},
   "outputs": [
    {
     "data": {
      "text/plain": [
       "184     5.218408\n",
       "1947   -0.189644\n",
       "251    -1.340577\n",
       "1121   -1.863210\n",
       "1487    0.559119\n",
       "Name: hashpower_accepting, dtype: float64"
      ]
     },
     "execution_count": 224,
     "metadata": {},
     "output_type": "execute_result"
    }
   ],
   "source": [
    "residuals = y_pred-y_test\n",
    "residuals.head()"
   ]
  },
  {
   "cell_type": "code",
   "execution_count": 225,
   "metadata": {},
   "outputs": [
    {
     "data": {
      "text/plain": [
       "array([ 89.21840848,  74.81035637,  98.65942341,  98.13678955,\n",
       "        72.55911873,  89.21840848,  74.85940316, 101.03254685,\n",
       "        84.23705426,  84.25743718,  71.86379255,  84.37406957,\n",
       "        99.54014705,  72.1106521 ,  76.119568  ,  72.0924728 ,\n",
       "        92.53214642,  71.89398196,  84.37406957,  66.85910484,\n",
       "        98.02520805,  99.74946986,  96.60537668,  90.36367598,\n",
       "        98.65942341,  99.54014705,  69.99261714, 100.97621564,\n",
       "        71.86379255,  75.20634007, 100.30842636,  71.92482724,\n",
       "       100.30842636,  72.55911873,  71.92482724,  92.60947486,\n",
       "        72.0924728 ,  84.37406957,  81.94714958,  71.89398196,\n",
       "        76.119568  , 100.38071527,  89.47093382,  88.29307835,\n",
       "       102.25563738,  75.20634007,  75.20634007,  91.3807933 ,\n",
       "        77.42967788,  93.01049606,  70.39527515,  70.12093284,\n",
       "        85.30799159,  72.76293088,  69.99261714,  71.92482724,\n",
       "        89.47772671, 100.31433074,  86.07597019, 100.27007113,\n",
       "       101.20045138,  71.92482724,  78.73334474,  99.74946986,\n",
       "        89.21840848,  72.0924728 , 100.06083333,  74.81035637,\n",
       "        95.13239484, 100.08554003,  87.63031453,  78.10624747,\n",
       "        98.02520805,  76.119568  ,  82.76223225, 100.33951585,\n",
       "        71.92482724,  66.85910484,  98.65942341, 100.27007113,\n",
       "        95.42473904,  74.85940316,  84.23480793,  91.92342222,\n",
       "        73.29510343,  72.1106521 ,  84.37406957,  74.81035637,\n",
       "        89.57725938,  72.0924728 ,  84.37406957,  71.86379255,\n",
       "        69.99261714, 100.08554003,  69.3088016 ,  74.62087421,\n",
       "        71.16361126, 100.72337115,  96.40663475,  95.42473904,\n",
       "        71.31055466,  71.31055466,  94.77512042,  72.9743387 ,\n",
       "       100.38071527,  71.86379255,  99.5228386 ,  71.89398196,\n",
       "       100.90729802,  71.92482724, 105.11600618,  84.37406957,\n",
       "        87.13314789,  85.00343405,  71.89398196,  71.86379255,\n",
       "        94.74427514,  93.01049606,  95.42473904,  71.35652669,\n",
       "       105.42060068,  71.89398196,  72.1106521 ,  71.35652669,\n",
       "        71.89398196,  72.1106521 ,  85.30799159, 105.05908004,\n",
       "       100.27007113,  99.06565109,  84.50881813,  98.65942341,\n",
       "        87.13314789,  71.89398196,  98.99089438,  82.76223225,\n",
       "        99.41827623,  93.25735915,  88.09271705,  71.92482724,\n",
       "        91.3807933 ,  72.0924728 ,  70.80053864,  99.06565109,\n",
       "       100.06083333,  85.00343405,  72.0924728 ,  98.13678955,\n",
       "        71.92482724, 100.08554003, 103.76766683,  98.99089438,\n",
       "        81.12209327,  95.42473904, 100.30842636,  73.09113074,\n",
       "       101.20045138,  69.99261714,  90.12967566,  74.85940316,\n",
       "        85.16581494,  72.76293088,  93.01049606,  87.28324258,\n",
       "        95.42473904,  72.0924728 ,  76.77951106,  85.00343405,\n",
       "        95.42473904,  95.62642322,  72.0924728 , 100.90729802,\n",
       "       100.97621564,  71.92482724,  94.74427514,  98.65942341,\n",
       "        72.1106521 , 100.06083333,  71.31055466,  72.0924728 ,\n",
       "        99.44978148,  84.37406957,  96.82035216, 100.30842636,\n",
       "        84.37406957,  71.89398196, 100.38071527,  84.37406957,\n",
       "        85.27714632,  71.89398196, 100.38071527, 100.90729802,\n",
       "        88.06187178,  98.99089438,  95.7789704 ,  72.1106521 ,\n",
       "        84.76536268, 100.66324094, 100.90729802, 105.11600618,\n",
       "        96.03343561,  92.53214642,  99.74113556,  98.02520805,\n",
       "        84.76536268,  83.29548893,  71.89398196,  85.30799159,\n",
       "        88.32391149,  71.89398196, 100.30842636,  92.60947486,\n",
       "        71.86379255,  72.1106521 , 100.06083333,  94.94382544,\n",
       "        84.37406957,  99.74946986,  86.07597019,  86.86039807,\n",
       "        73.29510343,  71.31055466,  67.45126305,  70.81633779,\n",
       "        85.00343405, 100.06083333,  84.23480793,  95.6193099 ,\n",
       "        95.7789704 ,  71.89398196,  92.60947486,  71.89398196,\n",
       "        84.37406957,  71.92482724,  89.21840848, 101.03254685,\n",
       "        72.0924728 ,  78.10624747,  71.86379255,  71.89398196,\n",
       "        84.37406957,  84.7648257 ,  81.52941183,  84.37406957,\n",
       "        84.37406957,  71.86379255, 104.36604904,  71.89398196,\n",
       "       100.90729802,  72.76293088,  84.7648257 ,  72.1106521 ,\n",
       "        95.7789704 ,  83.29548893,  82.76223225,  92.60947486,\n",
       "        99.41827623,  99.48891319,  98.99089438,  98.02520805,\n",
       "        72.05329569,  93.73443938,  95.42473904,  71.31055466,\n",
       "        75.20634007,  95.27604448,  85.00343405, 100.82780045,\n",
       "        71.86379255, 100.06083333,  73.29510343,  98.99089438,\n",
       "        71.89398196, 100.72337115,  87.898338  ,  84.37406957,\n",
       "        99.06565109,  75.64892079, 100.27007113,  71.92482724,\n",
       "        87.63031453, 100.06083333,  88.95960726, 101.90678111,\n",
       "        72.55911873,  89.98994605,  95.7789704 ,  69.3088016 ,\n",
       "       100.82780045,  72.1106521 ,  71.89398196,  95.27604448,\n",
       "        98.02520805,  71.89398196,  84.14973028, 100.18455062,\n",
       "        73.29510343,  72.76293088,  75.20634007,  98.13678955,\n",
       "       101.03254685,  86.39506544, 100.18455062, 100.06083333,\n",
       "       100.33951585,  98.02520805,  87.9739609 ,  71.89398196,\n",
       "        85.00343405, 100.06083333,  89.21840848, 101.23129665,\n",
       "        71.89398196, 100.06083333,  72.0924728 ,  87.63031453,\n",
       "       100.90729802,  84.37406957,  82.76223225,  98.99089438,\n",
       "        84.37406957,  99.06565109,  84.23705426,  71.89398196,\n",
       "        99.06565109,  79.91302337,  99.44978148,  98.99089438,\n",
       "        84.2156893 ,  94.77512042,  71.89398196,  99.54014705,\n",
       "        98.65942341,  71.89398196,  76.119568  ,  76.119568  ,\n",
       "       100.90729802, 100.38071527,  93.72436453,  95.42473904,\n",
       "        71.86379255,  71.16361126, 100.90729802, 105.41385226,\n",
       "       100.68501975,  95.42473904,  71.35652669,  71.89398196,\n",
       "        71.31055466,  76.119568  ,  72.0924728 ,  69.99261714,\n",
       "        76.119568  ,  99.06565109,  87.63031453,  95.39174304,\n",
       "        98.02520805,  71.89398196,  71.35652669,  75.64892079,\n",
       "        81.92425486,  84.7648257 ,  72.55911873,  72.1106521 ,\n",
       "        73.38015212, 100.30842636,  85.00343405, 101.23129665,\n",
       "        72.1106521 ,  84.37406957,  99.48891319,  72.0924728 ,\n",
       "       100.06083333,  72.76293088,  71.32426328,  71.86379255,\n",
       "       102.25563738, 100.06083333,  84.37406957,  72.0924728 ,\n",
       "        71.89398196,  71.86379255,  74.85940316,  72.1106521 ,\n",
       "        95.62642322,  71.86379255,  76.119568  , 100.06083333,\n",
       "        98.65942341,  72.76293088, 100.06083333,  88.2572859 ,\n",
       "        78.10624747,  95.42473904,  71.31055466,  71.31055466,\n",
       "        82.76223225,  84.37406957, 100.27007113,  74.81035637,\n",
       "        99.54014705,  75.64248778,  85.06613442,  89.98994605,\n",
       "        87.28324258,  88.29307835,  71.86379255,  87.898338  ,\n",
       "        85.27714632,  82.76223225,  99.74946986,  98.02520805,\n",
       "        92.15827486,  69.3088016 ,  72.1106521 ,  71.52133104,\n",
       "        71.32426328,  99.41827623,  98.02520805,  88.45168176,\n",
       "        84.23705426,  75.64892079,  71.86379255,  99.48891319,\n",
       "        99.48891319,  70.18036209,  99.06565109, 101.20045138,\n",
       "        95.42473904,  84.79208501,  73.29510343,  98.65942341,\n",
       "        98.65942341,  71.89398196,  98.02520805,  72.00502854,\n",
       "       100.06083333,  84.7648257 , 100.68501975,  72.1106521 ,\n",
       "        71.31055466, 100.06083333,  72.1106521 , 100.30842636,\n",
       "        96.58437571, 101.87593584,  95.42473904,  72.1106521 ,\n",
       "        72.1106521 ,  87.63031453,  71.86379255,  72.1106521 ,\n",
       "        98.65942341,  71.89398196,  71.89398196,  71.89398196,\n",
       "        76.07982888,  82.76223225,  84.37406957,  74.85940316,\n",
       "        95.7789704 ,  71.16361126,  74.22727309,  71.89398196,\n",
       "        98.02520805,  99.48891319,  96.60260921,  98.65942341,\n",
       "        89.21840848,  89.57725938,  74.62087421,  71.92482724,\n",
       "        85.00343405,  71.35652669, 100.30842636,  99.44978148,\n",
       "        95.42473904, 100.30842636,  71.92482724,  98.65942341,\n",
       "       100.18455062,  95.42473904,  88.95960726, 102.73201418,\n",
       "        70.39527515,  99.54014705,  84.7648257 ,  87.8243005 ,\n",
       "        84.37406957,  89.47772671,  71.89398196, 100.06083333,\n",
       "        99.74946986,  95.90042756, 101.87593584,  72.1106521 ,\n",
       "       100.38071527, 101.20045138,  96.03343561,  74.85940316,\n",
       "       100.08554003,  98.99089438, 100.38071527,  70.35564407,\n",
       "       100.06083333,  72.1106521 ,  71.89398196, 101.39055104,\n",
       "        83.14234604,  94.74427514,  72.0924728 ,  71.86379255,\n",
       "        70.59743676,  71.92482724, 100.30842636,  71.35652669,\n",
       "        71.89398196,  88.32391149,  84.60853786,  84.37406957,\n",
       "        71.86379255,  99.74946986,  98.65942341,  78.10624747,\n",
       "        75.64892079,  90.485152  ,  94.77512042,  83.29548893,\n",
       "        71.16361126,  92.60947486,  84.23705426,  71.31055466,\n",
       "        95.42473904,  71.89398196, 100.38071527,  98.13678955,\n",
       "       102.25563738, 100.06083333,  72.0924728 , 100.38071527,\n",
       "       100.06083333,  84.37406957,  71.89398196,  74.50666264,\n",
       "       100.90729802,  81.29079583,  71.89398196, 100.30842636,\n",
       "        96.85830437,  99.74946986,  85.00343405, 100.38071527,\n",
       "        71.86379255, 100.30842636, 100.82780045,  75.64892079,\n",
       "        89.57725938, 105.41385226,  96.85830437,  83.29548893,\n",
       "        72.76293088, 100.90729802,  72.1106521 , 100.06083333,\n",
       "        72.1106521 ,  70.81633779,  72.55911873,  71.89398196,\n",
       "       111.89612767, 100.06083333, 100.97621564,  71.86379255,\n",
       "        93.38761931,  91.3807933 ,  72.1106521 , 100.38071527,\n",
       "        99.06565109,  71.89398196, 100.08554003,  74.81035637,\n",
       "        84.50881813, 100.82432809,  72.1106521 ,  98.02520805,\n",
       "        71.32426328,  71.89398196, 100.82780045, 100.90729802,\n",
       "        72.1106521 ,  71.92482724,  71.89398196,  85.30799159,\n",
       "        99.44978148, 100.06083333,  84.50881813,  99.54014705,\n",
       "       104.36604904,  91.10586165,  84.79208501,  72.76293088,\n",
       "        77.42967788,  84.7648257 , 100.06083333, 100.82780045,\n",
       "        85.27714632,  84.12552529,  77.42967788,  84.37406957,\n",
       "        98.02520805,  72.55911873,  72.1106521 , 100.30842636,\n",
       "        71.31055466,  95.42473904,  83.29548893,  99.54014705,\n",
       "        71.89398196,  83.29548893,  71.89398196, 100.38071527,\n",
       "        95.13239484, 100.66324094,  88.06187178,  71.31055466,\n",
       "        71.89398196,  80.63992731,  84.27381647,  71.92482724,\n",
       "        83.29548893,  69.3088016 ,  84.37406957,  93.73443938,\n",
       "        98.65942341,  91.3807933 ,  75.64892079,  70.59743676,\n",
       "        72.0924728 ,  95.7047833 ,  71.16361126,  71.86379255,\n",
       "        79.46409002, 103.881418  ,  71.89398196,  71.92482724,\n",
       "        72.9743387 ,  71.86379255,  84.37406957,  76.47465921,\n",
       "        86.87393294,  98.99089438,  72.0924728 ,  99.41827623,\n",
       "        91.3807933 ,  80.55714274,  89.21840848,  71.89398196,\n",
       "        72.0924728 ,  78.10624747,  84.37406957, 102.73201418,\n",
       "        94.94382544,  70.39527515,  71.89398196,  72.0924728 ,\n",
       "        98.13678955,  87.63031453,  84.7648257 ,  71.32954407,\n",
       "        89.21840848,  71.86379255,  79.69077943, 101.89261978,\n",
       "        85.00343405,  93.73443938, 100.06083333,  99.5228386 ,\n",
       "        71.89398196,  71.92482724,  78.03024183])"
      ]
     },
     "execution_count": 225,
     "metadata": {},
     "output_type": "execute_result"
    }
   ],
   "source": [
    "y_pred = pipe_all.predict(X_test)\n",
    "y_pred\n",
    "###these are the chances to be included in the next block"
   ]
  },
  {
   "cell_type": "code",
   "execution_count": 226,
   "metadata": {},
   "outputs": [],
   "source": [
    "Y = pipe_all.steps[1][1].feature_importances_\n",
    "cats = X.columns"
   ]
  },
  {
   "cell_type": "code",
   "execution_count": 227,
   "metadata": {},
   "outputs": [
    {
     "name": "stdout",
     "output_type": "stream",
     "text": [
      "Index(['gas', 'round_gp_10gwei', 'tx_cost'], dtype='object')\n",
      "[0.07837305 0.66479766 0.25682929]\n"
     ]
    },
    {
     "data": {
      "image/png": "[encoded data removed]",
      "text/plain": [
       "<Figure size 432x288 with 1 Axes>"
      ]
     },
     "metadata": {
      "needs_background": "light"
     },
     "output_type": "display_data"
    }
   ],
   "source": [
    "import matplotlib.pyplot as plt\n",
    "print(cats)\n",
    "print(Y)\n",
    "plt.subplot(1, 2, 2)\n",
    "plt.barh(cats, Y, align='center')\n",
    "plt.xlabel('Relative Importance')\n",
    "plt.title('Variable Importance')\n",
    "plt.show()\n",
    "\n",
    "####current models don't take into account the gas_limit (gas) - the computation burden of the transaction\n",
    "#on the network that the user is paying for and they only take into account the gas_price (round_gp_10gwei)"
   ]
  },
  {
   "cell_type": "markdown",
   "metadata": {},
   "source": [
    "<h1>Here we see that the tx_cost (gas_price * gas_limit) is an import factor to take into consideration when estimating the chance of the transaction being included in the block </h1> "
   ]
  },
  {
   "cell_type": "code",
   "execution_count": 92,
   "metadata": {},
   "outputs": [
    {
     "data": {
      "text/html": [
       "<div>\n",
       "<style scoped>\n",
       "    .dataframe tbody tr th:only-of-type {\n",
       "        vertical-align: middle;\n",
       "    }\n",
       "\n",
       "    .dataframe tbody tr th {\n",
       "        vertical-align: top;\n",
       "    }\n",
       "\n",
       "    .dataframe thead th {\n",
       "        text-align: right;\n",
       "    }\n",
       "</style>\n",
       "<table border=\"1\" class=\"dataframe\">\n",
       "  <thead>\n",
       "    <tr style=\"text-align: right;\">\n",
       "      <th></th>\n",
       "      <th>gas</th>\n",
       "      <th>round_gp_10gwei</th>\n",
       "      <th>tx_cost</th>\n",
       "    </tr>\n",
       "  </thead>\n",
       "  <tbody>\n",
       "    <tr>\n",
       "      <th>0</th>\n",
       "      <td>21000</td>\n",
       "      <td>1</td>\n",
       "      <td>21000</td>\n",
       "    </tr>\n",
       "    <tr>\n",
       "      <th>1</th>\n",
       "      <td>50000</td>\n",
       "      <td>100</td>\n",
       "      <td>5000000</td>\n",
       "    </tr>\n",
       "    <tr>\n",
       "      <th>2</th>\n",
       "      <td>333000</td>\n",
       "      <td>1000</td>\n",
       "      <td>333000000</td>\n",
       "    </tr>\n",
       "    <tr>\n",
       "      <th>3</th>\n",
       "      <td>21000</td>\n",
       "      <td>1000</td>\n",
       "      <td>21000000</td>\n",
       "    </tr>\n",
       "    <tr>\n",
       "      <th>4</th>\n",
       "      <td>50000</td>\n",
       "      <td>100</td>\n",
       "      <td>5000000</td>\n",
       "    </tr>\n",
       "    <tr>\n",
       "      <th>5</th>\n",
       "      <td>333000</td>\n",
       "      <td>1</td>\n",
       "      <td>333000</td>\n",
       "    </tr>\n",
       "  </tbody>\n",
       "</table>\n",
       "</div>"
      ],
      "text/plain": [
       "      gas  round_gp_10gwei    tx_cost\n",
       "0   21000                1      21000\n",
       "1   50000              100    5000000\n",
       "2  333000             1000  333000000\n",
       "3   21000             1000   21000000\n",
       "4   50000              100    5000000\n",
       "5  333000                1     333000"
      ]
     },
     "execution_count": 92,
     "metadata": {},
     "output_type": "execute_result"
    }
   ],
   "source": [
    "data = [[21000,50000,333000,21000,50000,333000],[1, 100, 1000,1000,100,1],[21000,5000000,333000000,21000000,5000000,333000]]\n",
    "df = pd.DataFrame(data,cats).T\n",
    "df"
   ]
  },
  {
   "cell_type": "markdown",
   "metadata": {},
   "source": [
    "<h1> Making my own test transaction df to look at their chance of inclusion.  These include common gas amounts used on the network with various gas_prices</h1>"
   ]
  },
  {
   "cell_type": "code",
   "execution_count": 93,
   "metadata": {},
   "outputs": [],
   "source": [
    "X_test = df[['gas','round_gp_10gwei']]\n",
    "X_test['tx_cost'] = df.gas * df.round_gp_10gwei"
   ]
  },
  {
   "cell_type": "markdown",
   "metadata": {},
   "source": [
    "<h1>The chance of those transactions being included in the next block on the network</h1>"
   ]
  },
  {
   "cell_type": "code",
   "execution_count": 94,
   "metadata": {},
   "outputs": [
    {
     "data": {
      "text/plain": [
       "array([71.01754203, 89.9787487 , 90.21340601, 97.67782833, 89.9787487 ,\n",
       "       71.01754203])"
      ]
     },
     "execution_count": 94,
     "metadata": {},
     "output_type": "execute_result"
    }
   ],
   "source": [
    "y_pred = pipe_all.predict(X_test)\n",
    "y_pred"
   ]
  },
  {
   "cell_type": "markdown",
   "metadata": {},
   "source": [
    "<h1>Screenshots of Transaction Costs, Confirmation Times on the Network to highlight savings to end users</h1>"
   ]
  },
  {
   "cell_type": "markdown",
   "metadata": {},
   "source": [
    "<h3>Here we see the blocks from the ethereum network streaming in by the infura node (slowly)</h3>"
   ]
  },
  {
   "cell_type": "markdown",
   "metadata": {},
   "source": [
    "<#img src=\"Screen Recording 2019-11-08 at 11.20.55 AM.mov\">"
   ]
  },
  {
   "cell_type": "markdown",
   "metadata": {},
   "source": [
    "<h3>Left is my api hosted locally for query and a competing api commonly used.  Updates on a per block basis waiting for user queries and returning price recommendations for users to place on gas in their ethereum transactions </h3>"
   ]
  },
  {
   "cell_type": "markdown",
   "metadata": {},
   "source": [
    "<#img src=\"Screen Recording 2019-11-08 at 11.25.47 AM.mov\">"
   ]
  },
  {
   "cell_type": "markdown",
   "metadata": {},
   "source": [
    "<h3>Cost and Time Comparison of the Two Apis</h3>"
   ]
  },
  {
   "cell_type": "code",
   "execution_count": 873,
   "metadata": {},
   "outputs": [],
   "source": [
    "import math\n",
    "def calc_expected_num_blocks(hpa):\n",
    "    \n",
    "    if hpa < 100:\n",
    "        prob =100 - hpa\n",
    "        \n",
    "        return math.log(0.05)//math.log(prob/100)\n",
    "        \n",
    "    return 1"
   ]
  },
  {
   "cell_type": "code",
   "execution_count": 874,
   "metadata": {},
   "outputs": [
    {
     "name": "stdout",
     "output_type": "stream",
     "text": [
      "wait time predicted to be: 74.5 min\n"
     ]
    }
   ],
   "source": [
    "print('wait time predicted to be: ' + str(calc_wait_time(1)*15/60) + ' min')"
   ]
  },
  {
   "cell_type": "code",
   "execution_count": null,
   "metadata": {},
   "outputs": [],
   "source": []
  },
  {
   "cell_type": "code",
   "execution_count": null,
   "metadata": {},
   "outputs": [],
   "source": []
  }
 ],
 "metadata": {
  "kernelspec": {
   "display_name": "Python 3",
   "language": "python",
   "name": "python3"
  },
  "language_info": {
   "codemirror_mode": {
    "name": "ipython",
    "version": 3
   },
   "file_extension": ".py",
   "mimetype": "text/x-python",
   "name": "python",
   "nbconvert_exporter": "python",
   "pygments_lexer": "ipython3",
   "version": "3.7.3"
  }
 },
 "nbformat": 4,
 "nbformat_minor": 2
}
