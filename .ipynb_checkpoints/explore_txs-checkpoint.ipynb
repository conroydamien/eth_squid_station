{
 "cells": [
  {
   "cell_type": "code",
   "execution_count": 46,
   "metadata": {},
   "outputs": [],
   "source": [
    "import pandas as pd"
   ]
  },
  {
   "cell_type": "markdown",
   "metadata": {},
   "source": [
    "<h1>This is a DataFrame that is updated with the infura stream of transactions in gasExpress.py and the results at each block are accessible via a GET request hosted on my server for querying and use as a Gas_price forecast for developers</h1>"
   ]
  },
  {
   "cell_type": "code",
   "execution_count": 47,
   "metadata": {},
   "outputs": [],
   "source": [
    "df = pd.read_csv('alltx.csv')"
   ]
  },
  {
   "cell_type": "markdown",
   "metadata": {},
   "source": [
    "<h1>Saved fields from the transaction</h1>"
   ]
  },
  {
   "cell_type": "code",
   "execution_count": 48,
   "metadata": {},
   "outputs": [
    {
     "data": {
      "text/html": [
       "<div>\n",
       "<style scoped>\n",
       "    .dataframe tbody tr th:only-of-type {\n",
       "        vertical-align: middle;\n",
       "    }\n",
       "\n",
       "    .dataframe tbody tr th {\n",
       "        vertical-align: top;\n",
       "    }\n",
       "\n",
       "    .dataframe thead th {\n",
       "        text-align: right;\n",
       "    }\n",
       "</style>\n",
       "<table border=\"1\" class=\"dataframe\">\n",
       "  <thead>\n",
       "    <tr style=\"text-align: right;\">\n",
       "      <th></th>\n",
       "      <th>block_mined</th>\n",
       "      <th>gas</th>\n",
       "      <th>gas_price</th>\n",
       "      <th>hashpower_accepting</th>\n",
       "      <th>round_gp_10gwei</th>\n",
       "      <th>time_mined</th>\n",
       "    </tr>\n",
       "  </thead>\n",
       "  <tbody>\n",
       "    <tr>\n",
       "      <th>count</th>\n",
       "      <td>6.300000e+02</td>\n",
       "      <td>6.300000e+02</td>\n",
       "      <td>6.300000e+02</td>\n",
       "      <td>630.000000</td>\n",
       "      <td>630.000000</td>\n",
       "      <td>6.300000e+02</td>\n",
       "    </tr>\n",
       "    <tr>\n",
       "      <th>mean</th>\n",
       "      <td>8.904431e+06</td>\n",
       "      <td>2.756797e+05</td>\n",
       "      <td>1.188595e+11</td>\n",
       "      <td>87.053968</td>\n",
       "      <td>1187.396825</td>\n",
       "      <td>1.573332e+09</td>\n",
       "    </tr>\n",
       "    <tr>\n",
       "      <th>std</th>\n",
       "      <td>2.530030e+00</td>\n",
       "      <td>5.478973e+05</td>\n",
       "      <td>7.991703e+11</td>\n",
       "      <td>12.316711</td>\n",
       "      <td>7991.172408</td>\n",
       "      <td>4.598741e+01</td>\n",
       "    </tr>\n",
       "    <tr>\n",
       "      <th>min</th>\n",
       "      <td>8.904427e+06</td>\n",
       "      <td>2.100000e+04</td>\n",
       "      <td>1.000000e+09</td>\n",
       "      <td>72.000000</td>\n",
       "      <td>10.000000</td>\n",
       "      <td>1.573332e+09</td>\n",
       "    </tr>\n",
       "    <tr>\n",
       "      <th>25%</th>\n",
       "      <td>8.904429e+06</td>\n",
       "      <td>4.200000e+04</td>\n",
       "      <td>1.700000e+09</td>\n",
       "      <td>72.000000</td>\n",
       "      <td>12.500000</td>\n",
       "      <td>1.573332e+09</td>\n",
       "    </tr>\n",
       "    <tr>\n",
       "      <th>50%</th>\n",
       "      <td>8.904431e+06</td>\n",
       "      <td>8.662050e+04</td>\n",
       "      <td>6.000000e+09</td>\n",
       "      <td>90.000000</td>\n",
       "      <td>60.000000</td>\n",
       "      <td>1.573332e+09</td>\n",
       "    </tr>\n",
       "    <tr>\n",
       "      <th>75%</th>\n",
       "      <td>8.904433e+06</td>\n",
       "      <td>4.000000e+05</td>\n",
       "      <td>1.462050e+10</td>\n",
       "      <td>100.000000</td>\n",
       "      <td>145.000000</td>\n",
       "      <td>1.573332e+09</td>\n",
       "    </tr>\n",
       "    <tr>\n",
       "      <th>max</th>\n",
       "      <td>8.904434e+06</td>\n",
       "      <td>5.000000e+06</td>\n",
       "      <td>9.577651e+12</td>\n",
       "      <td>100.000000</td>\n",
       "      <td>95770.000000</td>\n",
       "      <td>1.573332e+09</td>\n",
       "    </tr>\n",
       "  </tbody>\n",
       "</table>\n",
       "</div>"
      ],
      "text/plain": [
       "        block_mined           gas     gas_price  hashpower_accepting  \\\n",
       "count  6.300000e+02  6.300000e+02  6.300000e+02           630.000000   \n",
       "mean   8.904431e+06  2.756797e+05  1.188595e+11            87.053968   \n",
       "std    2.530030e+00  5.478973e+05  7.991703e+11            12.316711   \n",
       "min    8.904427e+06  2.100000e+04  1.000000e+09            72.000000   \n",
       "25%    8.904429e+06  4.200000e+04  1.700000e+09            72.000000   \n",
       "50%    8.904431e+06  8.662050e+04  6.000000e+09            90.000000   \n",
       "75%    8.904433e+06  4.000000e+05  1.462050e+10           100.000000   \n",
       "max    8.904434e+06  5.000000e+06  9.577651e+12           100.000000   \n",
       "\n",
       "       round_gp_10gwei    time_mined  \n",
       "count       630.000000  6.300000e+02  \n",
       "mean       1187.396825  1.573332e+09  \n",
       "std        7991.172408  4.598741e+01  \n",
       "min          10.000000  1.573332e+09  \n",
       "25%          12.500000  1.573332e+09  \n",
       "50%          60.000000  1.573332e+09  \n",
       "75%         145.000000  1.573332e+09  \n",
       "max       95770.000000  1.573332e+09  "
      ]
     },
     "execution_count": 48,
     "metadata": {},
     "output_type": "execute_result"
    }
   ],
   "source": [
    "df.describe()"
   ]
  },
  {
   "cell_type": "markdown",
   "metadata": {},
   "source": [
    "<h1>Engineered Feature to look at the gas_price spent and the gas_limit (# of units of the gas)</h1>"
   ]
  },
  {
   "cell_type": "code",
   "execution_count": 49,
   "metadata": {},
   "outputs": [],
   "source": [
    "df['tx_cost'] = df.gas * df.round_gp_10gwei"
   ]
  },
  {
   "cell_type": "markdown",
   "metadata": {},
   "source": [
    "<h1>Splitting the removing dependent and independent variables from the df</h1>"
   ]
  },
  {
   "cell_type": "code",
   "execution_count": 50,
   "metadata": {},
   "outputs": [],
   "source": [
    "X = df[['gas','round_gp_10gwei','tx_cost']]\n",
    "y = df['hashpower_accepting']"
   ]
  },
  {
   "cell_type": "code",
   "execution_count": 6,
   "metadata": {},
   "outputs": [
    {
     "name": "stdout",
     "output_type": "stream",
     "text": [
      "   round_gp_10gwei\n",
      "0             90.0\n",
      "1             10.0\n",
      "2             10.0\n",
      "3             60.0\n",
      "4            220.0\n"
     ]
    }
   ],
   "source": [
    "print(X.head())"
   ]
  },
  {
   "cell_type": "code",
   "execution_count": 7,
   "metadata": {},
   "outputs": [
    {
     "name": "stdout",
     "output_type": "stream",
     "text": [
      "0    100\n",
      "1     66\n",
      "2     66\n",
      "3    100\n",
      "4    100\n",
      "Name: hashpower_accepting, dtype: int64\n"
     ]
    }
   ],
   "source": [
    "print(y.head())"
   ]
  },
  {
   "cell_type": "markdown",
   "metadata": {},
   "source": [
    "<h1>Some Data Exploration to See Obvious Relationships</h1>"
   ]
  },
  {
   "cell_type": "code",
   "execution_count": 8,
   "metadata": {},
   "outputs": [
    {
     "data": {
      "text/plain": [
       "<matplotlib.axes._subplots.AxesSubplot at 0x1220fbda0>"
      ]
     },
     "execution_count": 8,
     "metadata": {},
     "output_type": "execute_result"
    }
   ],
   "source": [
    "df.plot.scatter(x='gas',\n",
    "                y='hashpower_accepting',\n",
    "                c='DarkBlue')"
   ]
  },
  {
   "cell_type": "code",
   "execution_count": 9,
   "metadata": {},
   "outputs": [
    {
     "data": {
      "text/plain": [
       "<matplotlib.axes._subplots.AxesSubplot at 0x12241cf98>"
      ]
     },
     "execution_count": 9,
     "metadata": {},
     "output_type": "execute_result"
    },
    {
     "data": {
      "image/png": "[encoded data removed]",
      "text/plain": [
       "<Figure size 432x288 with 1 Axes>"
      ]
     },
     "metadata": {
      "needs_background": "light"
     },
     "output_type": "display_data"
    }
   ],
   "source": [
    "df.plot.scatter(x='round_gp_10gwei',\n",
    "                y='hashpower_accepting',\n",
    "                c='DarkBlue',\n",
    "               )"
   ]
  },
  {
   "cell_type": "code",
   "execution_count": 10,
   "metadata": {},
   "outputs": [
    {
     "data": {
      "text/plain": [
       "<matplotlib.axes._subplots.AxesSubplot at 0x12249e5c0>"
      ]
     },
     "execution_count": 10,
     "metadata": {},
     "output_type": "execute_result"
    },
    {
     "data": {
      "image/png": "[encoded data removed]",
      "text/plain": [
       "<Figure size 432x288 with 1 Axes>"
      ]
     },
     "metadata": {
      "needs_background": "light"
     },
     "output_type": "display_data"
    }
   ],
   "source": [
    "df.plot.scatter(x='tx_cost',\n",
    "                y='hashpower_accepting',\n",
    "                c='DarkBlue',\n",
    "               )"
   ]
  },
  {
   "cell_type": "markdown",
   "metadata": {},
   "source": [
    "<h1>Getting ready for some ML exploration</h1>"
   ]
  },
  {
   "cell_type": "code",
   "execution_count": 11,
   "metadata": {},
   "outputs": [],
   "source": [
    "import numpy as np\n",
    "from sklearn.model_selection import train_test_split\n",
    "X_train, X_test, y_train, y_test = train_test_split(X, y, test_size=0.33, random_state=42)"
   ]
  },
  {
   "cell_type": "markdown",
   "metadata": {},
   "source": [
    "<h1>Linear Models</h1>"
   ]
  },
  {
   "cell_type": "markdown",
   "metadata": {},
   "source": [
    "<h3>Ridge</h3>"
   ]
  },
  {
   "cell_type": "code",
   "execution_count": 12,
   "metadata": {},
   "outputs": [
    {
     "data": {
      "text/plain": [
       "Ridge(alpha=0.01, copy_X=True, fit_intercept=True, max_iter=None,\n",
       "      normalize=False, random_state=None, solver='auto', tol=0.001)"
      ]
     },
     "execution_count": 12,
     "metadata": {},
     "output_type": "execute_result"
    }
   ],
   "source": [
    "from sklearn.linear_model import Ridge\n",
    "clf = Ridge(alpha=0.01)\n",
    "clf.fit(X_train, y_train) "
   ]
  },
  {
   "cell_type": "code",
   "execution_count": 13,
   "metadata": {},
   "outputs": [],
   "source": [
    "y_pred = clf.predict(X_test)"
   ]
  },
  {
   "cell_type": "code",
   "execution_count": 14,
   "metadata": {},
   "outputs": [
    {
     "data": {
      "text/plain": [
       "25     14.719146\n",
       "309   -19.152580\n",
       "73     14.719146\n",
       "195    14.719146\n",
       "57    -19.185471\n",
       "Name: hashpower_accepting, dtype: float64"
      ]
     },
     "execution_count": 14,
     "metadata": {},
     "output_type": "execute_result"
    }
   ],
   "source": [
    "residuals = y_pred-y_test\n",
    "residuals.head()"
   ]
  },
  {
   "cell_type": "code",
   "execution_count": 15,
   "metadata": {},
   "outputs": [
    {
     "data": {
      "text/plain": [
       "0.026879375514986426"
      ]
     },
     "execution_count": 15,
     "metadata": {},
     "output_type": "execute_result"
    }
   ],
   "source": [
    "clf.score(X,y)"
   ]
  },
  {
   "cell_type": "markdown",
   "metadata": {},
   "source": [
    "<h3>LinearRegression</h3>"
   ]
  },
  {
   "cell_type": "code",
   "execution_count": 16,
   "metadata": {},
   "outputs": [
    {
     "data": {
      "text/plain": [
       "LinearRegression(copy_X=True, fit_intercept=True, n_jobs=None, normalize=False)"
      ]
     },
     "execution_count": 16,
     "metadata": {},
     "output_type": "execute_result"
    }
   ],
   "source": [
    "from sklearn.linear_model import LinearRegression\n",
    "clf = LinearRegression()\n",
    "clf.fit(X_train, y_train) "
   ]
  },
  {
   "cell_type": "code",
   "execution_count": 17,
   "metadata": {},
   "outputs": [],
   "source": [
    "y_pred = clf.predict(X_test)"
   ]
  },
  {
   "cell_type": "code",
   "execution_count": 18,
   "metadata": {},
   "outputs": [
    {
     "data": {
      "text/plain": [
       "25     14.719146\n",
       "309   -19.152580\n",
       "73     14.719146\n",
       "195    14.719146\n",
       "57    -19.185471\n",
       "Name: hashpower_accepting, dtype: float64"
      ]
     },
     "execution_count": 18,
     "metadata": {},
     "output_type": "execute_result"
    }
   ],
   "source": [
    "residuals = y_pred-y_test\n",
    "residuals.head()"
   ]
  },
  {
   "cell_type": "code",
   "execution_count": 19,
   "metadata": {},
   "outputs": [
    {
     "data": {
      "text/plain": [
       "0.026879375514985315"
      ]
     },
     "execution_count": 19,
     "metadata": {},
     "output_type": "execute_result"
    }
   ],
   "source": [
    "clf.score(X,y)"
   ]
  },
  {
   "cell_type": "markdown",
   "metadata": {},
   "source": [
    "<h3>Logistic Regression</h3>"
   ]
  },
  {
   "cell_type": "code",
   "execution_count": 20,
   "metadata": {},
   "outputs": [
    {
     "data": {
      "text/plain": [
       "LogisticRegression(C=1.0, class_weight=None, dual=False, fit_intercept=True,\n",
       "                   intercept_scaling=1, l1_ratio=None, max_iter=100,\n",
       "                   multi_class='multinomial', n_jobs=None, penalty='l2',\n",
       "                   random_state=0, solver='lbfgs', tol=0.0001, verbose=0,\n",
       "                   warm_start=False)"
      ]
     },
     "execution_count": 20,
     "metadata": {},
     "output_type": "execute_result"
    }
   ],
   "source": [
    "from sklearn.linear_model import LogisticRegression\n",
    "clf = LogisticRegression(random_state=0, solver='lbfgs',\n",
    "                        multi_class='multinomial')\n",
    "clf.fit(X_train, y_train) "
   ]
  },
  {
   "cell_type": "code",
   "execution_count": 21,
   "metadata": {},
   "outputs": [],
   "source": [
    "y_pred = clf.predict(X_test)"
   ]
  },
  {
   "cell_type": "code",
   "execution_count": 22,
   "metadata": {},
   "outputs": [
    {
     "data": {
      "text/plain": [
       "25     0\n",
       "309    0\n",
       "73     0\n",
       "195    0\n",
       "57     0\n",
       "Name: hashpower_accepting, dtype: int64"
      ]
     },
     "execution_count": 22,
     "metadata": {},
     "output_type": "execute_result"
    }
   ],
   "source": [
    "residuals = y_pred-y_test\n",
    "residuals.head()"
   ]
  },
  {
   "cell_type": "code",
   "execution_count": 23,
   "metadata": {},
   "outputs": [
    {
     "data": {
      "text/plain": [
       "1.0"
      ]
     },
     "execution_count": 23,
     "metadata": {},
     "output_type": "execute_result"
    }
   ],
   "source": [
    "clf.score(X,y)"
   ]
  },
  {
   "cell_type": "markdown",
   "metadata": {},
   "source": [
    "Some observations from streaming data.  These different linear models perform better and worse depending on the network congestion.  These numbers are under low network congestion, and perform worse when there is more network congested which is why I investigated more models."
   ]
  },
  {
   "cell_type": "code",
   "execution_count": 24,
   "metadata": {},
   "outputs": [],
   "source": [
    "from sklearn import base\n",
    "class ColumnSelectTransformer(base.BaseEstimator, base.TransformerMixin):\n",
    "    \n",
    "    def __init__(self, col_names):\n",
    "        self.col_names = col_names  # We will need these in transform()\n",
    "    \n",
    "    def fit(self, X, y=None):\n",
    "        # This transformer doesn't need to learn anything about the data,\n",
    "        # so it can just return self without any further processing\n",
    "        return self\n",
    "    \n",
    "    def transform(self, X):\n",
    "        result=[]\n",
    "        # Return an array with the same number of rows as X and one\n",
    "        # column for each in self.col_names\n",
    "        for row in X:\n",
    "            row_res = []\n",
    "            for col in self.col_names:\n",
    "                row_res.append(row[col])\n",
    "            result.append(row_res)\n",
    "        return result\n",
    "                "
   ]
  },
  {
   "cell_type": "code",
   "execution_count": 25,
   "metadata": {},
   "outputs": [],
   "source": [
    "from sklearn.pipeline import Pipeline\n",
    "\n",
    "linear_pipe = Pipeline([\n",
    "        ('lin', LinearRegression()),\n",
    "   ])"
   ]
  },
  {
   "cell_type": "code",
   "execution_count": 26,
   "metadata": {},
   "outputs": [
    {
     "data": {
      "text/plain": [
       "array([ 80.71914629,  80.84742011,  80.71914629,  80.71914629,\n",
       "        80.81452939,  80.75203701,  80.77506052,  80.71914629,\n",
       "        80.71914629,  80.84742011,  80.73559165,  80.8013731 ,\n",
       "        80.71914629, 108.34735242,  80.74874794,  80.71914629,\n",
       "        80.71914629,  80.71914629,  80.78163866,  80.73559165,\n",
       "        80.84742011,  80.72243537,  80.71914629,  80.74874794,\n",
       "        93.92477101,  80.73559165,  80.73888073,  80.72243537,\n",
       "        80.71914629,  80.71914629,  95.39498626,  80.84742011,\n",
       "        80.71914629,  80.73559165,  80.71914629,  80.71914629,\n",
       "        80.71914629,  80.71914629,  80.73559165,  80.72243537,\n",
       "        80.73559165,  80.71914629,  80.71914629,  80.71914629,\n",
       "        80.78163866,  80.73559165,  80.71914629,  80.72243537,\n",
       "        80.8013731 ,  80.75203701,  80.78492774,  80.72243537,\n",
       "        80.78163866,  80.78163866,  80.73559165,  80.75203701,\n",
       "        80.71914629,  80.94609227,  80.73559165,  80.78492774,\n",
       "        80.72243537,  80.8013731 ,  80.73559165,  80.73559165,\n",
       "        95.39498626,  80.91320155,  80.71914629,  80.75203701,\n",
       "        80.71914629,  80.78163866,  80.71914629,  80.84742011,\n",
       "        81.04476444,  80.71914629,  80.78163866,  80.78163866,\n",
       "        80.74545887,  80.74545887,  80.72572444,  80.72572444,\n",
       "        80.78163866,  80.75203701,  95.39498626,  80.73559165,\n",
       "        80.71914629,  80.78163866,  80.72243537,  80.71914629,\n",
       "        80.74874794,  80.74874794,  80.86386547,  80.78821681,\n",
       "        80.74874794,  80.71914629,  80.81452939,  80.74874794,\n",
       "        80.79808402,  80.72243537,  80.72572444,  80.73559165,\n",
       "        80.71914629,  80.7651933 ,  80.71914629,  80.72243537,\n",
       "        80.71914629,  80.72243537,  80.73559165,  80.78163866,\n",
       "        80.78163866,  80.8013731 ])"
      ]
     },
     "execution_count": 26,
     "metadata": {},
     "output_type": "execute_result"
    }
   ],
   "source": [
    "linear_pipe.fit(X_train, y_train)\n",
    "linear_pipe.predict(X_test)"
   ]
  },
  {
   "cell_type": "code",
   "execution_count": 27,
   "metadata": {},
   "outputs": [
    {
     "data": {
      "text/plain": [
       "-0.04366897914638379"
      ]
     },
     "execution_count": 27,
     "metadata": {},
     "output_type": "execute_result"
    }
   ],
   "source": [
    "linear_pipe.score(X_test,y_test)"
   ]
  },
  {
   "cell_type": "code",
   "execution_count": 28,
   "metadata": {},
   "outputs": [],
   "source": [
    "log_pipe = Pipeline([\n",
    "       ('log', LogisticRegression()),\n",
    "        ])"
   ]
  },
  {
   "cell_type": "code",
   "execution_count": 29,
   "metadata": {},
   "outputs": [
    {
     "name": "stderr",
     "output_type": "stream",
     "text": [
      "/Users/steven/anaconda3/lib/python3.7/site-packages/sklearn/linear_model/logistic.py:432: FutureWarning: Default solver will be changed to 'lbfgs' in 0.22. Specify a solver to silence this warning.\n",
      "  FutureWarning)\n"
     ]
    },
    {
     "data": {
      "text/plain": [
       "array([ 66, 100,  66,  66, 100, 100, 100,  66,  66, 100, 100, 100,  66,\n",
       "       100, 100,  66,  66,  66, 100, 100, 100,  66,  66, 100, 100, 100,\n",
       "       100,  66,  66,  66, 100, 100,  66, 100,  66,  66,  66,  66, 100,\n",
       "        66, 100,  66,  66,  66, 100, 100,  66,  66, 100, 100, 100,  66,\n",
       "       100, 100, 100, 100,  66, 100, 100, 100,  66, 100, 100, 100, 100,\n",
       "       100,  66, 100,  66, 100,  66, 100, 100,  66, 100, 100, 100, 100,\n",
       "        66,  66, 100, 100, 100, 100,  66, 100,  66,  66, 100, 100, 100,\n",
       "       100, 100,  66, 100, 100, 100,  66,  66, 100,  66, 100,  66,  66,\n",
       "        66,  66, 100, 100, 100, 100])"
      ]
     },
     "execution_count": 29,
     "metadata": {},
     "output_type": "execute_result"
    }
   ],
   "source": [
    "log_pipe.fit(X_train, y_train)\n",
    "log_pipe.predict(X_test)"
   ]
  },
  {
   "cell_type": "code",
   "execution_count": 30,
   "metadata": {},
   "outputs": [
    {
     "data": {
      "text/plain": [
       "1.0"
      ]
     },
     "execution_count": 30,
     "metadata": {},
     "output_type": "execute_result"
    }
   ],
   "source": [
    "log_pipe.score(X_test,y_test)"
   ]
  },
  {
   "cell_type": "code",
   "execution_count": 31,
   "metadata": {},
   "outputs": [],
   "source": [
    "from sklearn.ensemble import GradientBoostingRegressor"
   ]
  },
  {
   "cell_type": "code",
   "execution_count": 32,
   "metadata": {},
   "outputs": [],
   "source": [
    "grad_pipe = Pipeline([\n",
    "       ('log', LogisticRegression()),\n",
    "        ])"
   ]
  },
  {
   "cell_type": "code",
   "execution_count": 33,
   "metadata": {},
   "outputs": [
    {
     "name": "stderr",
     "output_type": "stream",
     "text": [
      "/Users/steven/anaconda3/lib/python3.7/site-packages/sklearn/linear_model/logistic.py:432: FutureWarning: Default solver will be changed to 'lbfgs' in 0.22. Specify a solver to silence this warning.\n",
      "  FutureWarning)\n"
     ]
    },
    {
     "data": {
      "text/plain": [
       "array([ 66, 100,  66,  66, 100, 100, 100,  66,  66, 100, 100, 100,  66,\n",
       "       100, 100,  66,  66,  66, 100, 100, 100,  66,  66, 100, 100, 100,\n",
       "       100,  66,  66,  66, 100, 100,  66, 100,  66,  66,  66,  66, 100,\n",
       "        66, 100,  66,  66,  66, 100, 100,  66,  66, 100, 100, 100,  66,\n",
       "       100, 100, 100, 100,  66, 100, 100, 100,  66, 100, 100, 100, 100,\n",
       "       100,  66, 100,  66, 100,  66, 100, 100,  66, 100, 100, 100, 100,\n",
       "        66,  66, 100, 100, 100, 100,  66, 100,  66,  66, 100, 100, 100,\n",
       "       100, 100,  66, 100, 100, 100,  66,  66, 100,  66, 100,  66,  66,\n",
       "        66,  66, 100, 100, 100, 100])"
      ]
     },
     "execution_count": 33,
     "metadata": {},
     "output_type": "execute_result"
    }
   ],
   "source": [
    "grad_pipe.fit(X_train, y_train)\n",
    "grad_pipe.predict(X_test)"
   ]
  },
  {
   "cell_type": "code",
   "execution_count": 34,
   "metadata": {},
   "outputs": [
    {
     "data": {
      "text/plain": [
       "1.0"
      ]
     },
     "execution_count": 34,
     "metadata": {},
     "output_type": "execute_result"
    }
   ],
   "source": [
    "grad_pipe.score(X_test,y_test)"
   ]
  },
  {
   "cell_type": "markdown",
   "metadata": {},
   "source": [
    "<h1>Complex Model</h1>"
   ]
  },
  {
   "cell_type": "code",
   "execution_count": 41,
   "metadata": {},
   "outputs": [],
   "source": [
    "from sklearn.pipeline import FeatureUnion\n",
    "from sklearn.decomposition import PCA, TruncatedSVD\n",
    "union = FeatureUnion([(\"pca\", PCA(n_components=1))])\n",
    "#                       (\"svd\", TruncatedSVD(n_components=1))])\n",
    "\n",
    "pipe_all = Pipeline([('union', union), ('grad',GradientBoostingRegressor(n_estimators=300, learning_rate=1.0,max_depth=1, random_state=0))])"
   ]
  },
  {
   "cell_type": "code",
   "execution_count": 42,
   "metadata": {},
   "outputs": [
    {
     "name": "stdout",
     "output_type": "stream",
     "text": [
      "CPU times: user 3 µs, sys: 1e+03 ns, total: 4 µs\n",
      "Wall time: 6.2 µs\n",
      "\n"
     ]
    }
   ],
   "source": [
    "%time\n",
    "pipe_all.fit(X_train,y_train)\n",
    "print()"
   ]
  },
  {
   "cell_type": "code",
   "execution_count": 43,
   "metadata": {},
   "outputs": [
    {
     "data": {
      "text/plain": [
       "1.0"
      ]
     },
     "execution_count": 43,
     "metadata": {},
     "output_type": "execute_result"
    }
   ],
   "source": [
    "y_pred = pipe_all.predict(X_test)\n",
    "pipe_all.score(X_test,y_test)\n",
    "#0.67 with just gas and price\n",
    "#0.81 with 1 component + total_cost\n",
    "#0.93 with 2 component SVD\n",
    "\n",
    "##can get up to 0.98 if doing 3 components of PCA, computation takes a long time which isn't ideal"
   ]
  },
  {
   "cell_type": "code",
   "execution_count": 44,
   "metadata": {},
   "outputs": [
    {
     "data": {
      "text/plain": [
       "25     0.0\n",
       "309    0.0\n",
       "73     0.0\n",
       "195    0.0\n",
       "57     0.0\n",
       "Name: hashpower_accepting, dtype: float64"
      ]
     },
     "execution_count": 44,
     "metadata": {},
     "output_type": "execute_result"
    }
   ],
   "source": [
    "residuals = y_pred-y_test\n",
    "residuals.head()"
   ]
  },
  {
   "cell_type": "code",
   "execution_count": 45,
   "metadata": {},
   "outputs": [
    {
     "data": {
      "text/plain": [
       "array([ 66., 100.,  66.,  66., 100., 100., 100.,  66.,  66., 100., 100.,\n",
       "       100.,  66., 100., 100.,  66.,  66.,  66., 100., 100., 100.,  66.,\n",
       "        66., 100., 100., 100., 100.,  66.,  66.,  66., 100., 100.,  66.,\n",
       "       100.,  66.,  66.,  66.,  66., 100.,  66., 100.,  66.,  66.,  66.,\n",
       "       100., 100.,  66.,  66., 100., 100., 100.,  66., 100., 100., 100.,\n",
       "       100.,  66., 100., 100., 100.,  66., 100., 100., 100., 100., 100.,\n",
       "        66., 100.,  66., 100.,  66., 100., 100.,  66., 100., 100., 100.,\n",
       "       100.,  66.,  66., 100., 100., 100., 100.,  66., 100.,  66.,  66.,\n",
       "       100., 100., 100., 100., 100.,  66., 100., 100., 100.,  66.,  66.,\n",
       "       100.,  66., 100.,  66.,  66.,  66.,  66., 100., 100., 100., 100.])"
      ]
     },
     "execution_count": 45,
     "metadata": {},
     "output_type": "execute_result"
    }
   ],
   "source": [
    "y_pred = pipe_all.predict(X_test)\n",
    "y_pred\n",
    "###these are the chances to be included in the next block"
   ]
  },
  {
   "cell_type": "code",
   "execution_count": 839,
   "metadata": {},
   "outputs": [],
   "source": [
    "Y = pipe_all.steps[1][1].feature_importances_\n",
    "cats = X.columns"
   ]
  },
  {
   "cell_type": "code",
   "execution_count": 840,
   "metadata": {},
   "outputs": [
    {
     "data": {
      "image/png": "[encoded data removed]",
      "text/plain": [
       "<Figure size 432x288 with 1 Axes>"
      ]
     },
     "metadata": {
      "needs_background": "light"
     },
     "output_type": "display_data"
    }
   ],
   "source": [
    "import matplotlib.pyplot as plt\n",
    "plt.subplot(1, 2, 2)\n",
    "plt.barh(cats, Y, align='center')\n",
    "plt.xlabel('Relative Importance')\n",
    "plt.title('Variable Importance')\n",
    "plt.show()\n",
    "\n",
    "####current models don't take into account the gas_limit (gas) - the computation burden of the transaction\n",
    "#on the network that the user is paying for and they only take into account the gas_price (round_gp_10gwei)"
   ]
  },
  {
   "cell_type": "markdown",
   "metadata": {},
   "source": [
    "<h1>Here we see that the tx_cost (gas_price * gas_limit) is an import factor to take into consideration when estimating the chance of the transaction being included in the block </h1> "
   ]
  },
  {
   "cell_type": "code",
   "execution_count": 841,
   "metadata": {},
   "outputs": [
    {
     "data": {
      "text/html": [
       "<div>\n",
       "<style scoped>\n",
       "    .dataframe tbody tr th:only-of-type {\n",
       "        vertical-align: middle;\n",
       "    }\n",
       "\n",
       "    .dataframe tbody tr th {\n",
       "        vertical-align: top;\n",
       "    }\n",
       "\n",
       "    .dataframe thead th {\n",
       "        text-align: right;\n",
       "    }\n",
       "</style>\n",
       "<table border=\"1\" class=\"dataframe\">\n",
       "  <thead>\n",
       "    <tr style=\"text-align: right;\">\n",
       "      <th></th>\n",
       "      <th>gas</th>\n",
       "      <th>round_gp_10gwei</th>\n",
       "      <th>tx_cost</th>\n",
       "    </tr>\n",
       "  </thead>\n",
       "  <tbody>\n",
       "    <tr>\n",
       "      <th>0</th>\n",
       "      <td>21000</td>\n",
       "      <td>1</td>\n",
       "      <td>21000</td>\n",
       "    </tr>\n",
       "    <tr>\n",
       "      <th>1</th>\n",
       "      <td>50000</td>\n",
       "      <td>100</td>\n",
       "      <td>5000000</td>\n",
       "    </tr>\n",
       "    <tr>\n",
       "      <th>2</th>\n",
       "      <td>333000</td>\n",
       "      <td>1000</td>\n",
       "      <td>333000000</td>\n",
       "    </tr>\n",
       "    <tr>\n",
       "      <th>3</th>\n",
       "      <td>21000</td>\n",
       "      <td>1000</td>\n",
       "      <td>21000000</td>\n",
       "    </tr>\n",
       "    <tr>\n",
       "      <th>4</th>\n",
       "      <td>50000</td>\n",
       "      <td>100</td>\n",
       "      <td>5000000</td>\n",
       "    </tr>\n",
       "    <tr>\n",
       "      <th>5</th>\n",
       "      <td>333000</td>\n",
       "      <td>1</td>\n",
       "      <td>333000</td>\n",
       "    </tr>\n",
       "  </tbody>\n",
       "</table>\n",
       "</div>"
      ],
      "text/plain": [
       "      gas  round_gp_10gwei    tx_cost\n",
       "0   21000                1      21000\n",
       "1   50000              100    5000000\n",
       "2  333000             1000  333000000\n",
       "3   21000             1000   21000000\n",
       "4   50000              100    5000000\n",
       "5  333000                1     333000"
      ]
     },
     "execution_count": 841,
     "metadata": {},
     "output_type": "execute_result"
    }
   ],
   "source": [
    "data = [[21000,50000,333000,21000,50000,333000],[1, 100, 1000,1000,100,1],[21000,5000000,333000000,21000000,5000000,333000]]\n",
    "df = pd.DataFrame(data,cats).T\n",
    "df"
   ]
  },
  {
   "cell_type": "markdown",
   "metadata": {},
   "source": [
    "<h1> Making my own test transaction df to look at their chance of inclusion.  These include common gas amounts used on the network with various gas_prices</h1>"
   ]
  },
  {
   "cell_type": "code",
   "execution_count": 842,
   "metadata": {},
   "outputs": [],
   "source": [
    "X_test = df[['gas','round_gp_10gwei']]\n",
    "X_test['tx_cost'] = df.gas * df.round_gp_10gwei"
   ]
  },
  {
   "cell_type": "markdown",
   "metadata": {},
   "source": [
    "<h1>The chance of those transactions being included in the next block on the network</h1>"
   ]
  },
  {
   "cell_type": "code",
   "execution_count": 844,
   "metadata": {},
   "outputs": [
    {
     "data": {
      "text/plain": [
       "array([ 12.66205255,  91.68311273, 103.55980429,  95.11642922,\n",
       "        91.68311273,  23.34575396])"
      ]
     },
     "execution_count": 844,
     "metadata": {},
     "output_type": "execute_result"
    }
   ],
   "source": [
    "y_pred = pipe_all.predict(X_test)\n",
    "y_pred"
   ]
  },
  {
   "cell_type": "markdown",
   "metadata": {},
   "source": [
    "<h1>Screenshots of Transaction Costs, Confirmation Times on the Network to highlight savings to end users</h1>"
   ]
  },
  {
   "cell_type": "markdown",
   "metadata": {},
   "source": [
    "<h3>Here we see the blocks from the ethereum network streaming in by the infura node (slowly)</h3>"
   ]
  },
  {
   "cell_type": "markdown",
   "metadata": {},
   "source": [
    "<#img src=\"Screen Recording 2019-11-08 at 11.20.55 AM.mov\">"
   ]
  },
  {
   "cell_type": "markdown",
   "metadata": {},
   "source": [
    "<h3>Left is my api hosted locally for query and a competing api commonly used.  Updates on a per block basis waiting for user queries and returning price recommendations for users to place on gas in their ethereum transactions </h3>"
   ]
  },
  {
   "cell_type": "markdown",
   "metadata": {},
   "source": [
    "<#img src=\"Screen Recording 2019-11-08 at 11.25.47 AM.mov\">"
   ]
  },
  {
   "cell_type": "markdown",
   "metadata": {},
   "source": [
    "<h3>Cost and Time Comparison of the Two Apis</h3>"
   ]
  },
  {
   "cell_type": "code",
   "execution_count": 873,
   "metadata": {},
   "outputs": [],
   "source": [
    "import math\n",
    "def calc_expected_num_blocks(hpa):\n",
    "    \n",
    "    if hpa < 100:\n",
    "        prob =100 - hpa\n",
    "        \n",
    "        return math.log(0.05)//math.log(prob/100)\n",
    "        \n",
    "    return 1"
   ]
  },
  {
   "cell_type": "code",
   "execution_count": 874,
   "metadata": {},
   "outputs": [
    {
     "name": "stdout",
     "output_type": "stream",
     "text": [
      "wait time predicted to be: 74.5 min\n"
     ]
    }
   ],
   "source": [
    "print('wait time predicted to be: ' + str(calc_wait_time(1)*15/60) + ' min')"
   ]
  },
  {
   "cell_type": "code",
   "execution_count": null,
   "metadata": {},
   "outputs": [],
   "source": []
  },
  {
   "cell_type": "code",
   "execution_count": null,
   "metadata": {},
   "outputs": [],
   "source": []
  }
 ],
 "metadata": {
  "kernelspec": {
   "display_name": "Python 3",
   "language": "python",
   "name": "python3"
  },
  "language_info": {
   "codemirror_mode": {
    "name": "ipython",
    "version": 3
   },
   "file_extension": ".py",
   "mimetype": "text/x-python",
   "name": "python",
   "nbconvert_exporter": "python",
   "pygments_lexer": "ipython3",
   "version": "3.7.3"
  }
 },
 "nbformat": 4,
 "nbformat_minor": 2
}
